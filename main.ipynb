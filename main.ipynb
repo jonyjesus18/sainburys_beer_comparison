{
 "cells": [
  {
   "cell_type": "code",
   "execution_count": 25,
   "metadata": {},
   "outputs": [
    {
     "name": "stderr",
     "output_type": "stream",
     "text": [
      "/var/folders/p6/325r0tsd2cd1jddpt9nd70hm0000gn/T/ipykernel_48388/1563364347.py:12: DeprecationWarning: executable_path has been deprecated, please pass in a Service object\n",
      "  driver = webdriver.Chrome(ChromeDriverManager().install())\n"
     ]
    },
    {
     "name": "stdout",
     "output_type": "stream",
     "text": [
      "https://www.sainsburys.co.uk/shop/gb/groceries/product/details/all-beers/badger-fursty-ferret-ale-500ml £3.30 / ltr Alcohol by volume: 4.4%\n",
      "Serving suggestion: Dark crystal malt delivers a full bodied biscuity taste, rounded off with a subtle floral and lemon hop aroma\n",
      "Alcoholic content: 2.2 units\n",
      "https://www.sainsburys.co.uk/shop/gb/groceries/product/details/all-beers/birra-moretti-12x330ml £3.79 / ltr Alcohol by volume: 4.6%\n",
      "Alcoholic content: 1.5 units\n",
      "https://www.sainsburys.co.uk/shop/gb/groceries/product/details/all-beers/birra-moretti-lager-4x330ml £3.98 / ltr Alcohol by volume: 4.6%\n",
      "Alcoholic content: 1.5 units\n",
      "https://www.sainsburys.co.uk/shop/gb/groceries/product/details/all-beers/birra-moretti-lager-660ml £2.88 / ltr Alcohol by volume: 4.6%\n",
      "https://www.sainsburys.co.uk/shop/gb/groceries/product/details/all-beers/birra-moretti-lager-beer-bottle-18x330ml £2.86 / ltr Alcohol by volume: 4.6%\n",
      "https://www.sainsburys.co.uk/shop/gb/groceries/product/details/all-beers/bishops-finger-ale-500ml £2.60 / ltr Alcohol by volume: 5.4%\n",
      "Alcoholic content: 2.7 units\n",
      "https://www.sainsburys.co.uk/shop/gb/groceries/product/details/all-beers/black-sheep-ale--bottle-500ml £3.00 / ltr Alcohol by volume: 4.4%\n",
      "Serving suggestion: A well rounded premium amber ale packed with British hops and a complex malt blend. Dried fruits and a touch of caramel strike the palate leading to a rich, bitter-sweet finish\n",
      "Alcoholic content: 2.2 units\n",
      "https://www.sainsburys.co.uk/shop/gb/groceries/product/details/all-beers/brewdog-punk-india-pale-ale-ipa-4x330ml £4.17 / ltr Alcohol by volume: 5.4%\n",
      "https://www.sainsburys.co.uk/shop/gb/groceries/product/details/all-beers/budweiser-18x440ml £1.77 / ltr Alcohol by volume: 4.5%\n",
      "https://www.sainsburys.co.uk/shop/gb/groceries/product/details/all-beers/budweiser-lager-beer-bottles-20x300ml £1.83 / ltr Alcohol by volume: 4.5%\n",
      "Alcoholic content: 1.4 units\n",
      "https://www.sainsburys.co.uk/shop/gb/groceries/product/details/all-beers/carling-lager-18x440ml £1.39 / ltr Alcohol by volume: 4%\n",
      "https://www.sainsburys.co.uk/shop/gb/groceries/product/details/all-beers/coors-light-15-x-330ml £2.42 / ltr Alcohol by volume: 4%\n",
      "Serving suggestion: Coors is a clean, light and refreshing lager with low bitterness and crisp finish that delivers mountain cold refreshment\n",
      "https://www.sainsburys.co.uk/shop/gb/groceries/product/details/all-beers/corona-18x330ml £3.03 / ltr Alcohol by volume: 4.5%\n",
      "https://www.sainsburys.co.uk/shop/gb/groceries/product/details/all-beers/corona-extra-12x330ml £2.78 / ltr Alcohol by volume: 4.5%\n",
      "https://www.sainsburys.co.uk/shop/gb/groceries/product/details/all-beers/corona-lager-beer-cans-6x330ml £2.52 / ltr Alcohol by volume: 4.5%\n",
      "https://www.sainsburys.co.uk/shop/gb/groceries/product/details/all-beers/crabbies-original-ginger-beer-500ml £3.40 / ltr Alcohol by volume: 4.0%\n",
      "Alcoholic content: 2 units\n",
      "https://www.sainsburys.co.uk/shop/gb/groceries/product/details/all-beers/erdinger-weissbier-wheat-beer-bottle-500ml £3.40 / ltr Alcohol by volume: 5.3%\n",
      "Serving suggestion: Classic wheat beer blends gently spicy malt aromas with mildly bitter hops. Its secret lies in our unique Erdinger brewing yeasts. They provide the fruity notes and unmistakably fresh flavour. The finishing touch for every Erdinger Weissbier is a further specialty: the “Bayerische Edelreifung” or double maturity method. After the main fermentation process, we give our beer the time it needs to mature a second time in the bottle. And we are happy to give it this time. Because this allows its delicious lively nature and the harmonious interplay of its various aromas to fully unfold\n",
      "https://www.sainsburys.co.uk/shop/gb/groceries/product/details/all-beers/estrella-damm-12x330ml £3.03 / ltr Alcohol by volume: 4.6%\n",
      "Serving suggestion: Light amber and golden bright beer, with a pale and persistent head. Complex and delicate aroma. The bitterness and tasty palate characterized by the cereal notes produce a very refreshing finish\n",
      "https://www.sainsburys.co.uk/shop/gb/groceries/product/details/all-beers/fosters-lager-18x440ml £1.51 / ltr Alcohol by volume: 4.0%\n",
      "https://www.sainsburys.co.uk/shop/gb/groceries/product/details/all-beers/greene-king-abbot-ale-4x500ml £2.63 / ltr Alcohol by volume: 5%\n",
      "https://www.sainsburys.co.uk/shop/gb/groceries/product/details/all-beers/guinness-draught-stout-10x440ml £3.07 / ltr Alcohol by volume: 4%\n",
      "Serving suggestion: The union of sweet malt, bitter hops and roasted barley give Guinness Draught its unique, characteristic flavour, with hints of coffee and chocolate aromas.\n",
      "Smooth. Creamy. Perfectly balanced finish.\n",
      "Alcoholic content: 0.18 units\n",
      "https://www.sainsburys.co.uk/shop/gb/groceries/product/details/all-beers/guinness-draught-stout-4x440ml £2.70 / ltr Alcohol by volume: 4%\n",
      "Serving suggestion: Perfect with food. Or without. Guinness Draught is an ideal accompaniment to good friends. And good times\n",
      "Alcoholic content: 1.8 units\n",
      "https://www.sainsburys.co.uk/shop/gb/groceries/product/details/all-beers/guinness-original-stout-500ml £3.60 / ltr Alcohol by volume: 4.2%\n",
      "Serving suggestion: Still brewed at our St. James's Gate brewery in Dublin, Guinness Original is crafted from finest quality malt, hops and Irish barley. Sharp and crisp to the taste, it's an entirely different experience from the smooth, creamy Guinness Draught\n",
      "https://www.sainsburys.co.uk/shop/gb/groceries/product/details/all-beers/heineken-12x330ml £2.27 / ltr Alcohol by volume: 5%\n",
      "https://www.sainsburys.co.uk/shop/gb/groceries/product/details/all-beers/heineken-silver-beer-lager-bottles-12x330ml £3.16 / ltr Alcohol by volume: 4%\n",
      "Alcoholic content: 1.3 units\n",
      "https://www.sainsburys.co.uk/shop/gb/groceries/product/details/all-beers/henry-westons-vintage-cider-4x500ml £3.75 / ltr Alcohol by volume: 8.2%\n",
      "Serving suggestion: Smooth & Rounded Medium Dry Cider\n",
      "Alcoholic content: 4.1 units\n",
      "https://www.sainsburys.co.uk/shop/gb/groceries/product/details/all-beers/kopparberg-strawberry---lime-10x330ml £3.03 / ltr Alcohol by volume: 4.0%\n",
      "Serving suggestion: Apple cider infused with strawberry and lime delivers a fruity taste with an unmistakable Strawberry aroma\n",
      "https://www.sainsburys.co.uk/shop/gb/groceries/product/details/all-beers/kronenbourg-1664-15x275ml £2.97 / ltr Alcohol by volume: 5.0%\n",
      "Serving suggestion: Brewed with the unique aromatic strisselspalt hops from alsace\n",
      "https://www.sainsburys.co.uk/shop/gb/groceries/product/details/all-beers/kronenbourg-1664-premium-beer-15-x-440ml-7961376-p £1.51 / ltr Alcohol by volume: 5.0%\n",
      "https://www.sainsburys.co.uk/shop/gb/groceries/product/details/all-beers/london-pride-bitter-bottle-x4-500ml £2.88 / ltr Alcohol by volume: 4.7%\n",
      "https://www.sainsburys.co.uk/shop/gb/groceries/product/details/all-beers/lucky-saint-unfiltered-low-alcohol-lager-330ml £4.54 / ltr Alcohol by volume: 0.5%\n",
      "https://www.sainsburys.co.uk/shop/gb/groceries/product/details/all-beers/marstons-old-empire-ale-ipa-500ml £3.00 / ltr Alcohol by volume: 5.7%\n",
      "Serving suggestion: Goldings, Fuggles and American Cascade hops combine to give a crisp, citrus hop aroma, with a balanced, bittersweet finish\n",
      "Alcoholic content: 2.9 units\n",
      "https://www.sainsburys.co.uk/shop/gb/groceries/product/details/all-beers/newcastle-brown-ale-550ml £3.09 / ltr Alcohol by volume: 4.7%\n",
      "Alcoholic content: 2.6 units\n",
      "https://www.sainsburys.co.uk/shop/gb/groceries/product/details/all-beers/old-speckled-hen-ale-4x500ml £2.50 / ltr Alcohol by volume: 5%\n",
      "Alcoholic content: 2.5 units\n",
      "https://www.sainsburys.co.uk/shop/gb/groceries/product/details/all-beers/peroni-18x330ml £3.03 / ltr Alcohol by volume: 5.0%\n",
      "https://www.sainsburys.co.uk/shop/gb/groceries/product/details/all-beers/peroni-nastro-azzuro-12x330ml £4.17 / ltr Alcohol by volume: 5.0%\n",
      "https://www.sainsburys.co.uk/shop/gb/groceries/product/details/all-beers/peroni-nastro-azzurro-620ml £3.23 / ltr Alcohol by volume: 5.0%\n",
      "Alcoholic content: 3.1 units\n",
      "https://www.sainsburys.co.uk/shop/gb/groceries/product/details/all-beers/peroni-nastro-azzurro-lager-4x330ml £4.92 / ltr Alcohol by volume: 5.0%\n",
      "Serving suggestion: Peroni Nastro Azzurro is a crisp and refreshing beer crafted with passion and flair to offer a delicate balance of bitterness and subtle citrus aromatic notes\n",
      "https://www.sainsburys.co.uk/shop/gb/groceries/product/details/all-beers/san-miguel-12x330ml £2.78 / ltr Alcohol by volume: 5.0%\n",
      "https://www.sainsburys.co.uk/shop/gb/groceries/product/details/all-beers/san-miguel-4x440ml £2.70 / ltr Alcohol by volume: 5.0%\n",
      "https://www.sainsburys.co.uk/shop/gb/groceries/product/details/all-beers/san-miguel-lager-660ml £2.73 / ltr Alcohol by volume: 5.0%\n",
      "Alcoholic content: 3.3 units\n",
      "https://www.sainsburys.co.uk/shop/gb/groceries/product/details/all-beers/sharps-doom-bar-amber-ale-500ml £3.30 / ltr Alcohol by volume: 4.3%\n",
      "Taste category: Taste: balanced, succulent dried fruit, lightly roasted malt\n",
      "Alcoholic content: 2.2 units\n",
      "https://www.sainsburys.co.uk/shop/gb/groceries/product/details/all-beers/shepherd-neame-spitfire-kentish-ale-500ml £2.70 / ltr Alcohol by volume: 4.5%\n",
      "Alcoholic content: 2.3 units\n",
      "https://www.sainsburys.co.uk/shop/gb/groceries/product/details/all-beers/st-austell-proper-job-500ml £3.20 / ltr Alcohol by volume: 5.5%\n",
      "Alcoholic content: 2.8 units\n",
      "https://www.sainsburys.co.uk/shop/gb/groceries/product/details/all-beers/st-austell-tribute-ale-500ml £3.30 / ltr Alcohol by volume: 4.2%\n",
      "Serving suggestion: Pale amber in colour, Tribute is a moreishly drinkable beer with delicious full-bodied malt flavours and citrus aroma\n",
      "Alcoholic content: 2.1 units\n",
      "https://www.sainsburys.co.uk/shop/gb/groceries/product/details/all-beers/staropramen-12x330ml £2.78 / ltr Alcohol by volume: 5%\n",
      "https://www.sainsburys.co.uk/shop/gb/groceries/product/details/all-beers/stella-artois-4x568ml £2.53 / ltr Alcohol by volume: 4.6%\n",
      "Serving suggestion: Light sweetness with a pronounced dry hoppy finish\n",
      "https://www.sainsburys.co.uk/shop/gb/groceries/product/details/all-beers/stella-artois-premium-lager-beer-cans-18x440ml £1.77 / ltr Alcohol by volume: 4.8%\n",
      "Serving suggestion: A beautifully balanced, full-flavoured premium lager with a pronounced hoppy bitterness and a crisp, clean and refreshing finish\n",
      "https://www.sainsburys.co.uk/shop/gb/groceries/product/details/all-beers/strongbow-original-cider-18x440ml £1.64 / ltr Alcohol by volume: 4.5%\n",
      "https://www.sainsburys.co.uk/shop/gb/groceries/product/details/all-beers/thatchers-cloudy-lemon-4x440ml £3.27 / ltr Alcohol by volume: 4.0%\n",
      "Serving suggestion: The perfect balance of sharp notes from real lemons and sweetness from specially selected dessert apples such as Braeburn, Gala and Red Spur. The juice of real lemons is added to our premium apple cider to create zingy and refreshing lemony flavours\n",
      "https://www.sainsburys.co.uk/shop/gb/groceries/product/details/all-beers/thatchers-haze-cloudy-somerset-cider-10x440ml £1.82 / ltr Alcohol by volume: 4.5%\n",
      "Serving suggestion: Thatchers Haze is a cloudy premium cider crafted with specially selected eating apples to create a crisp sweet finish\n",
      "https://www.sainsburys.co.uk/shop/gb/groceries/product/details/all-beers/theakston-old-peculier-ale-500ml £3.60 / ltr Alcohol by volume: 5.6%\n",
      "Alcoholic content: 2.8 units\n",
      "https://www.sainsburys.co.uk/shop/gb/groceries/product/details/all-beers/thwaites-wainwright-golden-ale-500ml £3.00 / ltr Alcohol by volume: 4.1%\n",
      "Serving suggestion: A superb thirst quenching, refreshing beer packed full of flavour, lightly hopped with subtle sweet notes and a delicate citrus aroma\n",
      "Alcoholic content: 2.1 units\n",
      "https://www.sainsburys.co.uk/shop/gb/groceries/product/details/all-beers/timothy-taylor-landlord-ale-500ml £3.60 / ltr Alcohol by volume: 4.1%\n",
      "Serving suggestion: Taylor's Taste is achieved by using the finest natural ingredients - our unique Knowle spring water, the highest grade golden promise malted barley, whole leaf hops and our own Taylor's Taste yeast\n",
      "Alcoholic content: 2.1 units\n",
      "https://www.sainsburys.co.uk/shop/gb/groceries/product/details/all-beers/wychwood-hobgoblin-extra-strong-ale-500ml £2.98 / ltr Alcohol by volume: 5.2%\n",
      "Serving suggestion: This distinct ruby beer's sweet caramel and fruity aromas tease the taste buds. Brewed with smooth and rich chocolate and crystal malts & a blend of fuggles and styrian golding hops. Expect a delicious full-bodied toffee flavour and a fruity finish of figs, raisins and dates\n",
      "Alcoholic content: 2.6 units\n",
      "https://www.sainsburys.co.uk/shop/gb/groceries/product/details/all-beers/wychwood-hobgoblin-gold-500ml £2.98 / ltr Alcohol by volume: 4.5%\n",
      "Serving suggestion: A solid gold legend. The combination of four hop varieties infused with malted barley and a touch of wheat give this easy drinking golden beer tropical aromas of citrus and passion fruit. A biscuit-like malt base gives way to heaps of fresh lemon and lime zest. A hop kick riot of rascally refreshment\n",
      "Alcoholic content: 2.3 units\n"
     ]
    }
   ],
   "source": [
    "import time\n",
    "import numpy as np\n",
    "from selenium import webdriver\n",
    "from webdriver_manager.chrome import ChromeDriverManager\n",
    "from selenium.webdriver.common.by import By\n",
    "from selenium.webdriver.support.wait import WebDriverWait\n",
    "\n",
    "\n",
    "driver = webdriver.Chrome(ChromeDriverManager().install())\n",
    "\n",
    "sainsburys_beer_path = 'https://www.sainsburys.co.uk/shop/gb/groceries/drinks/all-beers'\n",
    "\n",
    "driver.get(sainsburys_beer_path)\n",
    "\n",
    "time.sleep(1)\n",
    "\n",
    "WebDriverWait(driver, timeout=10).until(lambda d: d.find_element(By.XPATH, '//*[@id=\"onetrust-accept-btn-handler\"]'))\n",
    "\n",
    "driver.find_element(By.XPATH, '//*[@id=\"onetrust-accept-btn-handler\"]').click()\n",
    "\n",
    "elems = driver.find_elements(By.XPATH,\"//a[@href]\")\n",
    "\n",
    "# get links for all beers in the page so we can start visiting beer level information\n",
    "links = []\n",
    "for elem in elems:\n",
    "    pattern = 'https://www.sainsburys.co.uk/shop/gb/groceries/product/details/'\n",
    "    try:\n",
    "        attr = elem.get_attribute(\"href\")\n",
    "        if pattern in attr:\n",
    "            links.append(attr)\n",
    "    except:\n",
    "        pass\n",
    "\n",
    "def get_abv(abv):\n",
    "    for t in abv:\n",
    "        if 'Alcohol' in t.text:\n",
    "            return t\n",
    "data = []\n",
    "\n",
    "# Get %Alcohol and price per liter values \n",
    "for l in np.unique(links):\n",
    "    try:\n",
    "        driver.get(l) \n",
    "        time.sleep(3) \n",
    "        x_path_alcohol_volume = '//*[@id=\"mainPart\"]/div[4]/div/p'\n",
    "\n",
    "        ppl = driver.find_element(By.CLASS_NAME,'pd__cost__per-unit')\n",
    "        abv_0 = driver.find_elements(By.CLASS_NAME,'nameTextItems')\n",
    "        abv_1 = get_abv(abv_0)\n",
    "        entry = [l, ppl.text, abv_1.text]\n",
    "        data.append(entry)\n",
    "        print(l, ppl.text, abv_1.text)\n",
    "    except:\n",
    "        pass\n",
    "\n",
    "\n"
   ]
  },
  {
   "cell_type": "code",
   "execution_count": 85,
   "metadata": {},
   "outputs": [],
   "source": [
    "# Cleanup\n",
    "\n",
    "import pandas as pd\n",
    "import re\n",
    "\n",
    "df = pd.DataFrame(data=data, columns=['href','ppl','abv_raw'])\n",
    "\n",
    "abv_raw_list  = df['abv_raw'].to_list()\n",
    "abv_list = []\n",
    "\n",
    "for i in abv_raw_list:\n",
    "    m = re.findall('([0-9]*\\.?[0-9]*)\\s*%',i)\n",
    "    if len(m) > 0:\n",
    "        abv_list.append(list(m)[0])\n",
    "    else:\n",
    "        abv_list.append('NaN')\n",
    "\n",
    "\n",
    "# Conver ppl values into workable numbers\n",
    "\n",
    "df['ppl_int']= pd.to_numeric(df['ppl'].apply(lambda x: x[1:5])) \n",
    "\n",
    "df['price_per_unit'] = df['ppl_int']/pd.to_numeric(df['abv'])\n",
    "\n",
    "# Extract beer names\n",
    "\n",
    "df['beer_name'] = df['href'].apply(lambda x: x.replace('https://www.sainsburys.co.uk/shop/gb/groceries/product/details/all-beers/',''))\n",
    "\n",
    "df.sort_values(by='price_per_unit')\n"
   ]
  },
  {
   "cell_type": "code",
   "execution_count": 119,
   "metadata": {},
   "outputs": [],
   "source": [
    "df.to_csv('beers.csv')"
   ]
  },
  {
   "cell_type": "code",
   "execution_count": 16,
   "metadata": {},
   "outputs": [],
   "source": [
    "import plotly as plt\n",
    "import pandas as pd\n",
    "df = pd.read_csv('beers.csv')\n",
    "df = df[df['price_per_unit'] < 5]"
   ]
  },
  {
   "cell_type": "code",
   "execution_count": 17,
   "metadata": {},
   "outputs": [
    {
     "data": {
      "text/html": [
       "<div>\n",
       "<style scoped>\n",
       "    .dataframe tbody tr th:only-of-type {\n",
       "        vertical-align: middle;\n",
       "    }\n",
       "\n",
       "    .dataframe tbody tr th {\n",
       "        vertical-align: top;\n",
       "    }\n",
       "\n",
       "    .dataframe thead th {\n",
       "        text-align: right;\n",
       "    }\n",
       "</style>\n",
       "<table border=\"1\" class=\"dataframe\">\n",
       "  <thead>\n",
       "    <tr style=\"text-align: right;\">\n",
       "      <th></th>\n",
       "      <th>Unnamed: 0</th>\n",
       "      <th>href</th>\n",
       "      <th>ppl</th>\n",
       "      <th>abv_raw</th>\n",
       "      <th>abv</th>\n",
       "      <th>ppl_int</th>\n",
       "      <th>price_per_unit</th>\n",
       "      <th>beer_name</th>\n",
       "    </tr>\n",
       "  </thead>\n",
       "  <tbody>\n",
       "    <tr>\n",
       "      <th>0</th>\n",
       "      <td>0</td>\n",
       "      <td>https://www.sainsburys.co.uk/shop/gb/groceries...</td>\n",
       "      <td>£3.30 / ltr</td>\n",
       "      <td>Alcohol by volume: 4.4%\\nServing suggestion: D...</td>\n",
       "      <td>4.4</td>\n",
       "      <td>3.30</td>\n",
       "      <td>0.750000</td>\n",
       "      <td>badger-fursty-ferret-ale-500ml</td>\n",
       "    </tr>\n",
       "    <tr>\n",
       "      <th>1</th>\n",
       "      <td>1</td>\n",
       "      <td>https://www.sainsburys.co.uk/shop/gb/groceries...</td>\n",
       "      <td>£3.79 / ltr</td>\n",
       "      <td>Alcohol by volume: 4.6%\\nAlcoholic content: 1....</td>\n",
       "      <td>4.6</td>\n",
       "      <td>3.79</td>\n",
       "      <td>0.823913</td>\n",
       "      <td>birra-moretti-12x330ml</td>\n",
       "    </tr>\n",
       "    <tr>\n",
       "      <th>2</th>\n",
       "      <td>2</td>\n",
       "      <td>https://www.sainsburys.co.uk/shop/gb/groceries...</td>\n",
       "      <td>£3.98 / ltr</td>\n",
       "      <td>Alcohol by volume: 4.6%\\nAlcoholic content: 1....</td>\n",
       "      <td>4.6</td>\n",
       "      <td>3.98</td>\n",
       "      <td>0.865217</td>\n",
       "      <td>birra-moretti-lager-4x330ml</td>\n",
       "    </tr>\n",
       "    <tr>\n",
       "      <th>3</th>\n",
       "      <td>3</td>\n",
       "      <td>https://www.sainsburys.co.uk/shop/gb/groceries...</td>\n",
       "      <td>£2.88 / ltr</td>\n",
       "      <td>Alcohol by volume: 4.6%</td>\n",
       "      <td>4.6</td>\n",
       "      <td>2.88</td>\n",
       "      <td>0.626087</td>\n",
       "      <td>birra-moretti-lager-660ml</td>\n",
       "    </tr>\n",
       "    <tr>\n",
       "      <th>4</th>\n",
       "      <td>4</td>\n",
       "      <td>https://www.sainsburys.co.uk/shop/gb/groceries...</td>\n",
       "      <td>£2.86 / ltr</td>\n",
       "      <td>Alcohol by volume: 4.6%</td>\n",
       "      <td>4.6</td>\n",
       "      <td>2.86</td>\n",
       "      <td>0.621739</td>\n",
       "      <td>birra-moretti-lager-beer-bottle-18x330ml</td>\n",
       "    </tr>\n",
       "    <tr>\n",
       "      <th>5</th>\n",
       "      <td>5</td>\n",
       "      <td>https://www.sainsburys.co.uk/shop/gb/groceries...</td>\n",
       "      <td>£2.60 / ltr</td>\n",
       "      <td>Alcohol by volume: 5.4%\\nAlcoholic content: 2....</td>\n",
       "      <td>5.4</td>\n",
       "      <td>2.60</td>\n",
       "      <td>0.481481</td>\n",
       "      <td>bishops-finger-ale-500ml</td>\n",
       "    </tr>\n",
       "    <tr>\n",
       "      <th>6</th>\n",
       "      <td>6</td>\n",
       "      <td>https://www.sainsburys.co.uk/shop/gb/groceries...</td>\n",
       "      <td>£3.00 / ltr</td>\n",
       "      <td>Alcohol by volume: 4.4%\\nServing suggestion: A...</td>\n",
       "      <td>4.4</td>\n",
       "      <td>3.00</td>\n",
       "      <td>0.681818</td>\n",
       "      <td>black-sheep-ale--bottle-500ml</td>\n",
       "    </tr>\n",
       "    <tr>\n",
       "      <th>7</th>\n",
       "      <td>7</td>\n",
       "      <td>https://www.sainsburys.co.uk/shop/gb/groceries...</td>\n",
       "      <td>£4.17 / ltr</td>\n",
       "      <td>Alcohol by volume: 5.4%</td>\n",
       "      <td>5.4</td>\n",
       "      <td>4.17</td>\n",
       "      <td>0.772222</td>\n",
       "      <td>brewdog-punk-india-pale-ale-ipa-4x330ml</td>\n",
       "    </tr>\n",
       "    <tr>\n",
       "      <th>8</th>\n",
       "      <td>8</td>\n",
       "      <td>https://www.sainsburys.co.uk/shop/gb/groceries...</td>\n",
       "      <td>£1.77 / ltr</td>\n",
       "      <td>Alcohol by volume: 4.5%</td>\n",
       "      <td>4.5</td>\n",
       "      <td>1.77</td>\n",
       "      <td>0.393333</td>\n",
       "      <td>budweiser-18x440ml</td>\n",
       "    </tr>\n",
       "    <tr>\n",
       "      <th>9</th>\n",
       "      <td>9</td>\n",
       "      <td>https://www.sainsburys.co.uk/shop/gb/groceries...</td>\n",
       "      <td>£1.83 / ltr</td>\n",
       "      <td>Alcohol by volume: 4.5%\\nAlcoholic content: 1....</td>\n",
       "      <td>4.5</td>\n",
       "      <td>1.83</td>\n",
       "      <td>0.406667</td>\n",
       "      <td>budweiser-lager-beer-bottles-20x300ml</td>\n",
       "    </tr>\n",
       "    <tr>\n",
       "      <th>10</th>\n",
       "      <td>10</td>\n",
       "      <td>https://www.sainsburys.co.uk/shop/gb/groceries...</td>\n",
       "      <td>£1.39 / ltr</td>\n",
       "      <td>Alcohol by volume: 4%</td>\n",
       "      <td>4.0</td>\n",
       "      <td>1.39</td>\n",
       "      <td>0.347500</td>\n",
       "      <td>carling-lager-18x440ml</td>\n",
       "    </tr>\n",
       "    <tr>\n",
       "      <th>11</th>\n",
       "      <td>11</td>\n",
       "      <td>https://www.sainsburys.co.uk/shop/gb/groceries...</td>\n",
       "      <td>£2.42 / ltr</td>\n",
       "      <td>Alcohol by volume: 4%\\nServing suggestion: Coo...</td>\n",
       "      <td>4.0</td>\n",
       "      <td>2.42</td>\n",
       "      <td>0.605000</td>\n",
       "      <td>coors-light-15-x-330ml</td>\n",
       "    </tr>\n",
       "    <tr>\n",
       "      <th>12</th>\n",
       "      <td>12</td>\n",
       "      <td>https://www.sainsburys.co.uk/shop/gb/groceries...</td>\n",
       "      <td>£3.03 / ltr</td>\n",
       "      <td>Alcohol by volume: 4.5%</td>\n",
       "      <td>4.5</td>\n",
       "      <td>3.03</td>\n",
       "      <td>0.673333</td>\n",
       "      <td>corona-18x330ml</td>\n",
       "    </tr>\n",
       "    <tr>\n",
       "      <th>13</th>\n",
       "      <td>13</td>\n",
       "      <td>https://www.sainsburys.co.uk/shop/gb/groceries...</td>\n",
       "      <td>£2.78 / ltr</td>\n",
       "      <td>Alcohol by volume: 4.5%</td>\n",
       "      <td>4.5</td>\n",
       "      <td>2.78</td>\n",
       "      <td>0.617778</td>\n",
       "      <td>corona-extra-12x330ml</td>\n",
       "    </tr>\n",
       "    <tr>\n",
       "      <th>14</th>\n",
       "      <td>14</td>\n",
       "      <td>https://www.sainsburys.co.uk/shop/gb/groceries...</td>\n",
       "      <td>£2.52 / ltr</td>\n",
       "      <td>Alcohol by volume: 4.5%</td>\n",
       "      <td>4.5</td>\n",
       "      <td>2.52</td>\n",
       "      <td>0.560000</td>\n",
       "      <td>corona-lager-beer-cans-6x330ml</td>\n",
       "    </tr>\n",
       "    <tr>\n",
       "      <th>15</th>\n",
       "      <td>15</td>\n",
       "      <td>https://www.sainsburys.co.uk/shop/gb/groceries...</td>\n",
       "      <td>£3.40 / ltr</td>\n",
       "      <td>Alcohol by volume: 4.0%\\nAlcoholic content: 2 ...</td>\n",
       "      <td>4.0</td>\n",
       "      <td>3.40</td>\n",
       "      <td>0.850000</td>\n",
       "      <td>crabbies-original-ginger-beer-500ml</td>\n",
       "    </tr>\n",
       "    <tr>\n",
       "      <th>16</th>\n",
       "      <td>16</td>\n",
       "      <td>https://www.sainsburys.co.uk/shop/gb/groceries...</td>\n",
       "      <td>£3.40 / ltr</td>\n",
       "      <td>Alcohol by volume: 5.3%\\nServing suggestion: C...</td>\n",
       "      <td>5.3</td>\n",
       "      <td>3.40</td>\n",
       "      <td>0.641509</td>\n",
       "      <td>erdinger-weissbier-wheat-beer-bottle-500ml</td>\n",
       "    </tr>\n",
       "    <tr>\n",
       "      <th>17</th>\n",
       "      <td>17</td>\n",
       "      <td>https://www.sainsburys.co.uk/shop/gb/groceries...</td>\n",
       "      <td>£3.03 / ltr</td>\n",
       "      <td>Alcohol by volume: 4.6%\\nServing suggestion: L...</td>\n",
       "      <td>4.6</td>\n",
       "      <td>3.03</td>\n",
       "      <td>0.658696</td>\n",
       "      <td>estrella-damm-12x330ml</td>\n",
       "    </tr>\n",
       "    <tr>\n",
       "      <th>18</th>\n",
       "      <td>18</td>\n",
       "      <td>https://www.sainsburys.co.uk/shop/gb/groceries...</td>\n",
       "      <td>£1.51 / ltr</td>\n",
       "      <td>Alcohol by volume: 4.0%</td>\n",
       "      <td>4.0</td>\n",
       "      <td>1.51</td>\n",
       "      <td>0.377500</td>\n",
       "      <td>fosters-lager-18x440ml</td>\n",
       "    </tr>\n",
       "    <tr>\n",
       "      <th>19</th>\n",
       "      <td>19</td>\n",
       "      <td>https://www.sainsburys.co.uk/shop/gb/groceries...</td>\n",
       "      <td>£2.63 / ltr</td>\n",
       "      <td>Alcohol by volume: 5%</td>\n",
       "      <td>5.0</td>\n",
       "      <td>2.63</td>\n",
       "      <td>0.526000</td>\n",
       "      <td>greene-king-abbot-ale-4x500ml</td>\n",
       "    </tr>\n",
       "    <tr>\n",
       "      <th>20</th>\n",
       "      <td>20</td>\n",
       "      <td>https://www.sainsburys.co.uk/shop/gb/groceries...</td>\n",
       "      <td>£3.07 / ltr</td>\n",
       "      <td>Alcohol by volume: 4%\\nServing suggestion: The...</td>\n",
       "      <td>4.0</td>\n",
       "      <td>3.07</td>\n",
       "      <td>0.767500</td>\n",
       "      <td>guinness-draught-stout-10x440ml</td>\n",
       "    </tr>\n",
       "    <tr>\n",
       "      <th>21</th>\n",
       "      <td>21</td>\n",
       "      <td>https://www.sainsburys.co.uk/shop/gb/groceries...</td>\n",
       "      <td>£2.70 / ltr</td>\n",
       "      <td>Alcohol by volume: 4%\\nServing suggestion: Per...</td>\n",
       "      <td>4.0</td>\n",
       "      <td>2.70</td>\n",
       "      <td>0.675000</td>\n",
       "      <td>guinness-draught-stout-4x440ml</td>\n",
       "    </tr>\n",
       "    <tr>\n",
       "      <th>22</th>\n",
       "      <td>22</td>\n",
       "      <td>https://www.sainsburys.co.uk/shop/gb/groceries...</td>\n",
       "      <td>£3.60 / ltr</td>\n",
       "      <td>Alcohol by volume: 4.2%\\nServing suggestion: S...</td>\n",
       "      <td>4.2</td>\n",
       "      <td>3.60</td>\n",
       "      <td>0.857143</td>\n",
       "      <td>guinness-original-stout-500ml</td>\n",
       "    </tr>\n",
       "    <tr>\n",
       "      <th>23</th>\n",
       "      <td>23</td>\n",
       "      <td>https://www.sainsburys.co.uk/shop/gb/groceries...</td>\n",
       "      <td>£2.27 / ltr</td>\n",
       "      <td>Alcohol by volume: 5%</td>\n",
       "      <td>5.0</td>\n",
       "      <td>2.27</td>\n",
       "      <td>0.454000</td>\n",
       "      <td>heineken-12x330ml</td>\n",
       "    </tr>\n",
       "    <tr>\n",
       "      <th>24</th>\n",
       "      <td>24</td>\n",
       "      <td>https://www.sainsburys.co.uk/shop/gb/groceries...</td>\n",
       "      <td>£3.16 / ltr</td>\n",
       "      <td>Alcohol by volume: 4%\\nAlcoholic content: 1.3 ...</td>\n",
       "      <td>4.0</td>\n",
       "      <td>3.16</td>\n",
       "      <td>0.790000</td>\n",
       "      <td>heineken-silver-beer-lager-bottles-12x330ml</td>\n",
       "    </tr>\n",
       "    <tr>\n",
       "      <th>25</th>\n",
       "      <td>25</td>\n",
       "      <td>https://www.sainsburys.co.uk/shop/gb/groceries...</td>\n",
       "      <td>£3.75 / ltr</td>\n",
       "      <td>Alcohol by volume: 8.2%\\nServing suggestion: S...</td>\n",
       "      <td>8.2</td>\n",
       "      <td>3.75</td>\n",
       "      <td>0.457317</td>\n",
       "      <td>henry-westons-vintage-cider-4x500ml</td>\n",
       "    </tr>\n",
       "    <tr>\n",
       "      <th>26</th>\n",
       "      <td>26</td>\n",
       "      <td>https://www.sainsburys.co.uk/shop/gb/groceries...</td>\n",
       "      <td>£3.03 / ltr</td>\n",
       "      <td>Alcohol by volume: 4.0%\\nServing suggestion: A...</td>\n",
       "      <td>4.0</td>\n",
       "      <td>3.03</td>\n",
       "      <td>0.757500</td>\n",
       "      <td>kopparberg-strawberry---lime-10x330ml</td>\n",
       "    </tr>\n",
       "    <tr>\n",
       "      <th>27</th>\n",
       "      <td>27</td>\n",
       "      <td>https://www.sainsburys.co.uk/shop/gb/groceries...</td>\n",
       "      <td>£2.97 / ltr</td>\n",
       "      <td>Alcohol by volume: 5.0%\\nServing suggestion: B...</td>\n",
       "      <td>5.0</td>\n",
       "      <td>2.97</td>\n",
       "      <td>0.594000</td>\n",
       "      <td>kronenbourg-1664-15x275ml</td>\n",
       "    </tr>\n",
       "    <tr>\n",
       "      <th>28</th>\n",
       "      <td>28</td>\n",
       "      <td>https://www.sainsburys.co.uk/shop/gb/groceries...</td>\n",
       "      <td>£1.51 / ltr</td>\n",
       "      <td>Alcohol by volume: 5.0%</td>\n",
       "      <td>5.0</td>\n",
       "      <td>1.51</td>\n",
       "      <td>0.302000</td>\n",
       "      <td>kronenbourg-1664-premium-beer-15-x-440ml-79613...</td>\n",
       "    </tr>\n",
       "    <tr>\n",
       "      <th>29</th>\n",
       "      <td>29</td>\n",
       "      <td>https://www.sainsburys.co.uk/shop/gb/groceries...</td>\n",
       "      <td>£2.88 / ltr</td>\n",
       "      <td>Alcohol by volume: 4.7%</td>\n",
       "      <td>4.7</td>\n",
       "      <td>2.88</td>\n",
       "      <td>0.612766</td>\n",
       "      <td>london-pride-bitter-bottle-x4-500ml</td>\n",
       "    </tr>\n",
       "    <tr>\n",
       "      <th>31</th>\n",
       "      <td>31</td>\n",
       "      <td>https://www.sainsburys.co.uk/shop/gb/groceries...</td>\n",
       "      <td>£3.00 / ltr</td>\n",
       "      <td>Alcohol by volume: 5.7%\\nServing suggestion: G...</td>\n",
       "      <td>5.7</td>\n",
       "      <td>3.00</td>\n",
       "      <td>0.526316</td>\n",
       "      <td>marstons-old-empire-ale-ipa-500ml</td>\n",
       "    </tr>\n",
       "    <tr>\n",
       "      <th>32</th>\n",
       "      <td>32</td>\n",
       "      <td>https://www.sainsburys.co.uk/shop/gb/groceries...</td>\n",
       "      <td>£3.09 / ltr</td>\n",
       "      <td>Alcohol by volume: 4.7%\\nAlcoholic content: 2....</td>\n",
       "      <td>4.7</td>\n",
       "      <td>3.09</td>\n",
       "      <td>0.657447</td>\n",
       "      <td>newcastle-brown-ale-550ml</td>\n",
       "    </tr>\n",
       "    <tr>\n",
       "      <th>33</th>\n",
       "      <td>33</td>\n",
       "      <td>https://www.sainsburys.co.uk/shop/gb/groceries...</td>\n",
       "      <td>£2.50 / ltr</td>\n",
       "      <td>Alcohol by volume: 5%\\nAlcoholic content: 2.5 ...</td>\n",
       "      <td>5.0</td>\n",
       "      <td>2.50</td>\n",
       "      <td>0.500000</td>\n",
       "      <td>old-speckled-hen-ale-4x500ml</td>\n",
       "    </tr>\n",
       "    <tr>\n",
       "      <th>34</th>\n",
       "      <td>34</td>\n",
       "      <td>https://www.sainsburys.co.uk/shop/gb/groceries...</td>\n",
       "      <td>£3.03 / ltr</td>\n",
       "      <td>Alcohol by volume: 5.0%</td>\n",
       "      <td>5.0</td>\n",
       "      <td>3.03</td>\n",
       "      <td>0.606000</td>\n",
       "      <td>peroni-18x330ml</td>\n",
       "    </tr>\n",
       "    <tr>\n",
       "      <th>35</th>\n",
       "      <td>35</td>\n",
       "      <td>https://www.sainsburys.co.uk/shop/gb/groceries...</td>\n",
       "      <td>£4.17 / ltr</td>\n",
       "      <td>Alcohol by volume: 5.0%</td>\n",
       "      <td>5.0</td>\n",
       "      <td>4.17</td>\n",
       "      <td>0.834000</td>\n",
       "      <td>peroni-nastro-azzuro-12x330ml</td>\n",
       "    </tr>\n",
       "    <tr>\n",
       "      <th>36</th>\n",
       "      <td>36</td>\n",
       "      <td>https://www.sainsburys.co.uk/shop/gb/groceries...</td>\n",
       "      <td>£3.23 / ltr</td>\n",
       "      <td>Alcohol by volume: 5.0%\\nAlcoholic content: 3....</td>\n",
       "      <td>5.0</td>\n",
       "      <td>3.23</td>\n",
       "      <td>0.646000</td>\n",
       "      <td>peroni-nastro-azzurro-620ml</td>\n",
       "    </tr>\n",
       "    <tr>\n",
       "      <th>37</th>\n",
       "      <td>37</td>\n",
       "      <td>https://www.sainsburys.co.uk/shop/gb/groceries...</td>\n",
       "      <td>£4.92 / ltr</td>\n",
       "      <td>Alcohol by volume: 5.0%\\nServing suggestion: P...</td>\n",
       "      <td>5.0</td>\n",
       "      <td>4.92</td>\n",
       "      <td>0.984000</td>\n",
       "      <td>peroni-nastro-azzurro-lager-4x330ml</td>\n",
       "    </tr>\n",
       "    <tr>\n",
       "      <th>38</th>\n",
       "      <td>38</td>\n",
       "      <td>https://www.sainsburys.co.uk/shop/gb/groceries...</td>\n",
       "      <td>£2.78 / ltr</td>\n",
       "      <td>Alcohol by volume: 5.0%</td>\n",
       "      <td>5.0</td>\n",
       "      <td>2.78</td>\n",
       "      <td>0.556000</td>\n",
       "      <td>san-miguel-12x330ml</td>\n",
       "    </tr>\n",
       "    <tr>\n",
       "      <th>39</th>\n",
       "      <td>39</td>\n",
       "      <td>https://www.sainsburys.co.uk/shop/gb/groceries...</td>\n",
       "      <td>£2.70 / ltr</td>\n",
       "      <td>Alcohol by volume: 5.0%</td>\n",
       "      <td>5.0</td>\n",
       "      <td>2.70</td>\n",
       "      <td>0.540000</td>\n",
       "      <td>san-miguel-4x440ml</td>\n",
       "    </tr>\n",
       "    <tr>\n",
       "      <th>40</th>\n",
       "      <td>40</td>\n",
       "      <td>https://www.sainsburys.co.uk/shop/gb/groceries...</td>\n",
       "      <td>£2.73 / ltr</td>\n",
       "      <td>Alcohol by volume: 5.0%\\nAlcoholic content: 3....</td>\n",
       "      <td>5.0</td>\n",
       "      <td>2.73</td>\n",
       "      <td>0.546000</td>\n",
       "      <td>san-miguel-lager-660ml</td>\n",
       "    </tr>\n",
       "    <tr>\n",
       "      <th>41</th>\n",
       "      <td>41</td>\n",
       "      <td>https://www.sainsburys.co.uk/shop/gb/groceries...</td>\n",
       "      <td>£3.30 / ltr</td>\n",
       "      <td>Alcohol by volume: 4.3%\\nTaste category: Taste...</td>\n",
       "      <td>4.3</td>\n",
       "      <td>3.30</td>\n",
       "      <td>0.767442</td>\n",
       "      <td>sharps-doom-bar-amber-ale-500ml</td>\n",
       "    </tr>\n",
       "    <tr>\n",
       "      <th>42</th>\n",
       "      <td>42</td>\n",
       "      <td>https://www.sainsburys.co.uk/shop/gb/groceries...</td>\n",
       "      <td>£2.70 / ltr</td>\n",
       "      <td>Alcohol by volume: 4.5%\\nAlcoholic content: 2....</td>\n",
       "      <td>4.5</td>\n",
       "      <td>2.70</td>\n",
       "      <td>0.600000</td>\n",
       "      <td>shepherd-neame-spitfire-kentish-ale-500ml</td>\n",
       "    </tr>\n",
       "    <tr>\n",
       "      <th>43</th>\n",
       "      <td>43</td>\n",
       "      <td>https://www.sainsburys.co.uk/shop/gb/groceries...</td>\n",
       "      <td>£3.20 / ltr</td>\n",
       "      <td>Alcohol by volume: 5.5%\\nAlcoholic content: 2....</td>\n",
       "      <td>5.5</td>\n",
       "      <td>3.20</td>\n",
       "      <td>0.581818</td>\n",
       "      <td>st-austell-proper-job-500ml</td>\n",
       "    </tr>\n",
       "    <tr>\n",
       "      <th>44</th>\n",
       "      <td>44</td>\n",
       "      <td>https://www.sainsburys.co.uk/shop/gb/groceries...</td>\n",
       "      <td>£3.30 / ltr</td>\n",
       "      <td>Alcohol by volume: 4.2%\\nServing suggestion: P...</td>\n",
       "      <td>4.2</td>\n",
       "      <td>3.30</td>\n",
       "      <td>0.785714</td>\n",
       "      <td>st-austell-tribute-ale-500ml</td>\n",
       "    </tr>\n",
       "    <tr>\n",
       "      <th>45</th>\n",
       "      <td>45</td>\n",
       "      <td>https://www.sainsburys.co.uk/shop/gb/groceries...</td>\n",
       "      <td>£2.78 / ltr</td>\n",
       "      <td>Alcohol by volume: 5%</td>\n",
       "      <td>5.0</td>\n",
       "      <td>2.78</td>\n",
       "      <td>0.556000</td>\n",
       "      <td>staropramen-12x330ml</td>\n",
       "    </tr>\n",
       "    <tr>\n",
       "      <th>46</th>\n",
       "      <td>46</td>\n",
       "      <td>https://www.sainsburys.co.uk/shop/gb/groceries...</td>\n",
       "      <td>£2.53 / ltr</td>\n",
       "      <td>Alcohol by volume: 4.6%\\nServing suggestion: L...</td>\n",
       "      <td>4.6</td>\n",
       "      <td>2.53</td>\n",
       "      <td>0.550000</td>\n",
       "      <td>stella-artois-4x568ml</td>\n",
       "    </tr>\n",
       "    <tr>\n",
       "      <th>47</th>\n",
       "      <td>47</td>\n",
       "      <td>https://www.sainsburys.co.uk/shop/gb/groceries...</td>\n",
       "      <td>£1.77 / ltr</td>\n",
       "      <td>Alcohol by volume: 4.8%\\nServing suggestion: A...</td>\n",
       "      <td>4.8</td>\n",
       "      <td>1.77</td>\n",
       "      <td>0.368750</td>\n",
       "      <td>stella-artois-premium-lager-beer-cans-18x440ml</td>\n",
       "    </tr>\n",
       "    <tr>\n",
       "      <th>48</th>\n",
       "      <td>48</td>\n",
       "      <td>https://www.sainsburys.co.uk/shop/gb/groceries...</td>\n",
       "      <td>£1.64 / ltr</td>\n",
       "      <td>Alcohol by volume: 4.5%</td>\n",
       "      <td>4.5</td>\n",
       "      <td>1.64</td>\n",
       "      <td>0.364444</td>\n",
       "      <td>strongbow-original-cider-18x440ml</td>\n",
       "    </tr>\n",
       "    <tr>\n",
       "      <th>49</th>\n",
       "      <td>49</td>\n",
       "      <td>https://www.sainsburys.co.uk/shop/gb/groceries...</td>\n",
       "      <td>£3.27 / ltr</td>\n",
       "      <td>Alcohol by volume: 4.0%\\nServing suggestion: T...</td>\n",
       "      <td>4.0</td>\n",
       "      <td>3.27</td>\n",
       "      <td>0.817500</td>\n",
       "      <td>thatchers-cloudy-lemon-4x440ml</td>\n",
       "    </tr>\n",
       "    <tr>\n",
       "      <th>50</th>\n",
       "      <td>50</td>\n",
       "      <td>https://www.sainsburys.co.uk/shop/gb/groceries...</td>\n",
       "      <td>£1.82 / ltr</td>\n",
       "      <td>Alcohol by volume: 4.5%\\nServing suggestion: T...</td>\n",
       "      <td>4.5</td>\n",
       "      <td>1.82</td>\n",
       "      <td>0.404444</td>\n",
       "      <td>thatchers-haze-cloudy-somerset-cider-10x440ml</td>\n",
       "    </tr>\n",
       "    <tr>\n",
       "      <th>51</th>\n",
       "      <td>51</td>\n",
       "      <td>https://www.sainsburys.co.uk/shop/gb/groceries...</td>\n",
       "      <td>£3.60 / ltr</td>\n",
       "      <td>Alcohol by volume: 5.6%\\nAlcoholic content: 2....</td>\n",
       "      <td>5.6</td>\n",
       "      <td>3.60</td>\n",
       "      <td>0.642857</td>\n",
       "      <td>theakston-old-peculier-ale-500ml</td>\n",
       "    </tr>\n",
       "    <tr>\n",
       "      <th>52</th>\n",
       "      <td>52</td>\n",
       "      <td>https://www.sainsburys.co.uk/shop/gb/groceries...</td>\n",
       "      <td>£3.00 / ltr</td>\n",
       "      <td>Alcohol by volume: 4.1%\\nServing suggestion: A...</td>\n",
       "      <td>4.1</td>\n",
       "      <td>3.00</td>\n",
       "      <td>0.731707</td>\n",
       "      <td>thwaites-wainwright-golden-ale-500ml</td>\n",
       "    </tr>\n",
       "    <tr>\n",
       "      <th>53</th>\n",
       "      <td>53</td>\n",
       "      <td>https://www.sainsburys.co.uk/shop/gb/groceries...</td>\n",
       "      <td>£3.60 / ltr</td>\n",
       "      <td>Alcohol by volume: 4.1%\\nServing suggestion: T...</td>\n",
       "      <td>4.1</td>\n",
       "      <td>3.60</td>\n",
       "      <td>0.878049</td>\n",
       "      <td>timothy-taylor-landlord-ale-500ml</td>\n",
       "    </tr>\n",
       "    <tr>\n",
       "      <th>54</th>\n",
       "      <td>54</td>\n",
       "      <td>https://www.sainsburys.co.uk/shop/gb/groceries...</td>\n",
       "      <td>£2.98 / ltr</td>\n",
       "      <td>Alcohol by volume: 5.2%\\nServing suggestion: T...</td>\n",
       "      <td>5.2</td>\n",
       "      <td>2.98</td>\n",
       "      <td>0.573077</td>\n",
       "      <td>wychwood-hobgoblin-extra-strong-ale-500ml</td>\n",
       "    </tr>\n",
       "    <tr>\n",
       "      <th>55</th>\n",
       "      <td>55</td>\n",
       "      <td>https://www.sainsburys.co.uk/shop/gb/groceries...</td>\n",
       "      <td>£2.98 / ltr</td>\n",
       "      <td>Alcohol by volume: 4.5%\\nServing suggestion: A...</td>\n",
       "      <td>4.5</td>\n",
       "      <td>2.98</td>\n",
       "      <td>0.662222</td>\n",
       "      <td>wychwood-hobgoblin-gold-500ml</td>\n",
       "    </tr>\n",
       "  </tbody>\n",
       "</table>\n",
       "</div>"
      ],
      "text/plain": [
       "    Unnamed: 0                                               href  \\\n",
       "0            0  https://www.sainsburys.co.uk/shop/gb/groceries...   \n",
       "1            1  https://www.sainsburys.co.uk/shop/gb/groceries...   \n",
       "2            2  https://www.sainsburys.co.uk/shop/gb/groceries...   \n",
       "3            3  https://www.sainsburys.co.uk/shop/gb/groceries...   \n",
       "4            4  https://www.sainsburys.co.uk/shop/gb/groceries...   \n",
       "5            5  https://www.sainsburys.co.uk/shop/gb/groceries...   \n",
       "6            6  https://www.sainsburys.co.uk/shop/gb/groceries...   \n",
       "7            7  https://www.sainsburys.co.uk/shop/gb/groceries...   \n",
       "8            8  https://www.sainsburys.co.uk/shop/gb/groceries...   \n",
       "9            9  https://www.sainsburys.co.uk/shop/gb/groceries...   \n",
       "10          10  https://www.sainsburys.co.uk/shop/gb/groceries...   \n",
       "11          11  https://www.sainsburys.co.uk/shop/gb/groceries...   \n",
       "12          12  https://www.sainsburys.co.uk/shop/gb/groceries...   \n",
       "13          13  https://www.sainsburys.co.uk/shop/gb/groceries...   \n",
       "14          14  https://www.sainsburys.co.uk/shop/gb/groceries...   \n",
       "15          15  https://www.sainsburys.co.uk/shop/gb/groceries...   \n",
       "16          16  https://www.sainsburys.co.uk/shop/gb/groceries...   \n",
       "17          17  https://www.sainsburys.co.uk/shop/gb/groceries...   \n",
       "18          18  https://www.sainsburys.co.uk/shop/gb/groceries...   \n",
       "19          19  https://www.sainsburys.co.uk/shop/gb/groceries...   \n",
       "20          20  https://www.sainsburys.co.uk/shop/gb/groceries...   \n",
       "21          21  https://www.sainsburys.co.uk/shop/gb/groceries...   \n",
       "22          22  https://www.sainsburys.co.uk/shop/gb/groceries...   \n",
       "23          23  https://www.sainsburys.co.uk/shop/gb/groceries...   \n",
       "24          24  https://www.sainsburys.co.uk/shop/gb/groceries...   \n",
       "25          25  https://www.sainsburys.co.uk/shop/gb/groceries...   \n",
       "26          26  https://www.sainsburys.co.uk/shop/gb/groceries...   \n",
       "27          27  https://www.sainsburys.co.uk/shop/gb/groceries...   \n",
       "28          28  https://www.sainsburys.co.uk/shop/gb/groceries...   \n",
       "29          29  https://www.sainsburys.co.uk/shop/gb/groceries...   \n",
       "31          31  https://www.sainsburys.co.uk/shop/gb/groceries...   \n",
       "32          32  https://www.sainsburys.co.uk/shop/gb/groceries...   \n",
       "33          33  https://www.sainsburys.co.uk/shop/gb/groceries...   \n",
       "34          34  https://www.sainsburys.co.uk/shop/gb/groceries...   \n",
       "35          35  https://www.sainsburys.co.uk/shop/gb/groceries...   \n",
       "36          36  https://www.sainsburys.co.uk/shop/gb/groceries...   \n",
       "37          37  https://www.sainsburys.co.uk/shop/gb/groceries...   \n",
       "38          38  https://www.sainsburys.co.uk/shop/gb/groceries...   \n",
       "39          39  https://www.sainsburys.co.uk/shop/gb/groceries...   \n",
       "40          40  https://www.sainsburys.co.uk/shop/gb/groceries...   \n",
       "41          41  https://www.sainsburys.co.uk/shop/gb/groceries...   \n",
       "42          42  https://www.sainsburys.co.uk/shop/gb/groceries...   \n",
       "43          43  https://www.sainsburys.co.uk/shop/gb/groceries...   \n",
       "44          44  https://www.sainsburys.co.uk/shop/gb/groceries...   \n",
       "45          45  https://www.sainsburys.co.uk/shop/gb/groceries...   \n",
       "46          46  https://www.sainsburys.co.uk/shop/gb/groceries...   \n",
       "47          47  https://www.sainsburys.co.uk/shop/gb/groceries...   \n",
       "48          48  https://www.sainsburys.co.uk/shop/gb/groceries...   \n",
       "49          49  https://www.sainsburys.co.uk/shop/gb/groceries...   \n",
       "50          50  https://www.sainsburys.co.uk/shop/gb/groceries...   \n",
       "51          51  https://www.sainsburys.co.uk/shop/gb/groceries...   \n",
       "52          52  https://www.sainsburys.co.uk/shop/gb/groceries...   \n",
       "53          53  https://www.sainsburys.co.uk/shop/gb/groceries...   \n",
       "54          54  https://www.sainsburys.co.uk/shop/gb/groceries...   \n",
       "55          55  https://www.sainsburys.co.uk/shop/gb/groceries...   \n",
       "\n",
       "            ppl                                            abv_raw  abv  \\\n",
       "0   £3.30 / ltr  Alcohol by volume: 4.4%\\nServing suggestion: D...  4.4   \n",
       "1   £3.79 / ltr  Alcohol by volume: 4.6%\\nAlcoholic content: 1....  4.6   \n",
       "2   £3.98 / ltr  Alcohol by volume: 4.6%\\nAlcoholic content: 1....  4.6   \n",
       "3   £2.88 / ltr                            Alcohol by volume: 4.6%  4.6   \n",
       "4   £2.86 / ltr                            Alcohol by volume: 4.6%  4.6   \n",
       "5   £2.60 / ltr  Alcohol by volume: 5.4%\\nAlcoholic content: 2....  5.4   \n",
       "6   £3.00 / ltr  Alcohol by volume: 4.4%\\nServing suggestion: A...  4.4   \n",
       "7   £4.17 / ltr                            Alcohol by volume: 5.4%  5.4   \n",
       "8   £1.77 / ltr                            Alcohol by volume: 4.5%  4.5   \n",
       "9   £1.83 / ltr  Alcohol by volume: 4.5%\\nAlcoholic content: 1....  4.5   \n",
       "10  £1.39 / ltr                              Alcohol by volume: 4%  4.0   \n",
       "11  £2.42 / ltr  Alcohol by volume: 4%\\nServing suggestion: Coo...  4.0   \n",
       "12  £3.03 / ltr                            Alcohol by volume: 4.5%  4.5   \n",
       "13  £2.78 / ltr                            Alcohol by volume: 4.5%  4.5   \n",
       "14  £2.52 / ltr                            Alcohol by volume: 4.5%  4.5   \n",
       "15  £3.40 / ltr  Alcohol by volume: 4.0%\\nAlcoholic content: 2 ...  4.0   \n",
       "16  £3.40 / ltr  Alcohol by volume: 5.3%\\nServing suggestion: C...  5.3   \n",
       "17  £3.03 / ltr  Alcohol by volume: 4.6%\\nServing suggestion: L...  4.6   \n",
       "18  £1.51 / ltr                            Alcohol by volume: 4.0%  4.0   \n",
       "19  £2.63 / ltr                              Alcohol by volume: 5%  5.0   \n",
       "20  £3.07 / ltr  Alcohol by volume: 4%\\nServing suggestion: The...  4.0   \n",
       "21  £2.70 / ltr  Alcohol by volume: 4%\\nServing suggestion: Per...  4.0   \n",
       "22  £3.60 / ltr  Alcohol by volume: 4.2%\\nServing suggestion: S...  4.2   \n",
       "23  £2.27 / ltr                              Alcohol by volume: 5%  5.0   \n",
       "24  £3.16 / ltr  Alcohol by volume: 4%\\nAlcoholic content: 1.3 ...  4.0   \n",
       "25  £3.75 / ltr  Alcohol by volume: 8.2%\\nServing suggestion: S...  8.2   \n",
       "26  £3.03 / ltr  Alcohol by volume: 4.0%\\nServing suggestion: A...  4.0   \n",
       "27  £2.97 / ltr  Alcohol by volume: 5.0%\\nServing suggestion: B...  5.0   \n",
       "28  £1.51 / ltr                            Alcohol by volume: 5.0%  5.0   \n",
       "29  £2.88 / ltr                            Alcohol by volume: 4.7%  4.7   \n",
       "31  £3.00 / ltr  Alcohol by volume: 5.7%\\nServing suggestion: G...  5.7   \n",
       "32  £3.09 / ltr  Alcohol by volume: 4.7%\\nAlcoholic content: 2....  4.7   \n",
       "33  £2.50 / ltr  Alcohol by volume: 5%\\nAlcoholic content: 2.5 ...  5.0   \n",
       "34  £3.03 / ltr                            Alcohol by volume: 5.0%  5.0   \n",
       "35  £4.17 / ltr                            Alcohol by volume: 5.0%  5.0   \n",
       "36  £3.23 / ltr  Alcohol by volume: 5.0%\\nAlcoholic content: 3....  5.0   \n",
       "37  £4.92 / ltr  Alcohol by volume: 5.0%\\nServing suggestion: P...  5.0   \n",
       "38  £2.78 / ltr                            Alcohol by volume: 5.0%  5.0   \n",
       "39  £2.70 / ltr                            Alcohol by volume: 5.0%  5.0   \n",
       "40  £2.73 / ltr  Alcohol by volume: 5.0%\\nAlcoholic content: 3....  5.0   \n",
       "41  £3.30 / ltr  Alcohol by volume: 4.3%\\nTaste category: Taste...  4.3   \n",
       "42  £2.70 / ltr  Alcohol by volume: 4.5%\\nAlcoholic content: 2....  4.5   \n",
       "43  £3.20 / ltr  Alcohol by volume: 5.5%\\nAlcoholic content: 2....  5.5   \n",
       "44  £3.30 / ltr  Alcohol by volume: 4.2%\\nServing suggestion: P...  4.2   \n",
       "45  £2.78 / ltr                              Alcohol by volume: 5%  5.0   \n",
       "46  £2.53 / ltr  Alcohol by volume: 4.6%\\nServing suggestion: L...  4.6   \n",
       "47  £1.77 / ltr  Alcohol by volume: 4.8%\\nServing suggestion: A...  4.8   \n",
       "48  £1.64 / ltr                            Alcohol by volume: 4.5%  4.5   \n",
       "49  £3.27 / ltr  Alcohol by volume: 4.0%\\nServing suggestion: T...  4.0   \n",
       "50  £1.82 / ltr  Alcohol by volume: 4.5%\\nServing suggestion: T...  4.5   \n",
       "51  £3.60 / ltr  Alcohol by volume: 5.6%\\nAlcoholic content: 2....  5.6   \n",
       "52  £3.00 / ltr  Alcohol by volume: 4.1%\\nServing suggestion: A...  4.1   \n",
       "53  £3.60 / ltr  Alcohol by volume: 4.1%\\nServing suggestion: T...  4.1   \n",
       "54  £2.98 / ltr  Alcohol by volume: 5.2%\\nServing suggestion: T...  5.2   \n",
       "55  £2.98 / ltr  Alcohol by volume: 4.5%\\nServing suggestion: A...  4.5   \n",
       "\n",
       "    ppl_int  price_per_unit                                          beer_name  \n",
       "0      3.30        0.750000                     badger-fursty-ferret-ale-500ml  \n",
       "1      3.79        0.823913                             birra-moretti-12x330ml  \n",
       "2      3.98        0.865217                        birra-moretti-lager-4x330ml  \n",
       "3      2.88        0.626087                          birra-moretti-lager-660ml  \n",
       "4      2.86        0.621739           birra-moretti-lager-beer-bottle-18x330ml  \n",
       "5      2.60        0.481481                           bishops-finger-ale-500ml  \n",
       "6      3.00        0.681818                      black-sheep-ale--bottle-500ml  \n",
       "7      4.17        0.772222            brewdog-punk-india-pale-ale-ipa-4x330ml  \n",
       "8      1.77        0.393333                                 budweiser-18x440ml  \n",
       "9      1.83        0.406667              budweiser-lager-beer-bottles-20x300ml  \n",
       "10     1.39        0.347500                             carling-lager-18x440ml  \n",
       "11     2.42        0.605000                             coors-light-15-x-330ml  \n",
       "12     3.03        0.673333                                    corona-18x330ml  \n",
       "13     2.78        0.617778                              corona-extra-12x330ml  \n",
       "14     2.52        0.560000                     corona-lager-beer-cans-6x330ml  \n",
       "15     3.40        0.850000                crabbies-original-ginger-beer-500ml  \n",
       "16     3.40        0.641509         erdinger-weissbier-wheat-beer-bottle-500ml  \n",
       "17     3.03        0.658696                             estrella-damm-12x330ml  \n",
       "18     1.51        0.377500                             fosters-lager-18x440ml  \n",
       "19     2.63        0.526000                      greene-king-abbot-ale-4x500ml  \n",
       "20     3.07        0.767500                    guinness-draught-stout-10x440ml  \n",
       "21     2.70        0.675000                     guinness-draught-stout-4x440ml  \n",
       "22     3.60        0.857143                      guinness-original-stout-500ml  \n",
       "23     2.27        0.454000                                  heineken-12x330ml  \n",
       "24     3.16        0.790000        heineken-silver-beer-lager-bottles-12x330ml  \n",
       "25     3.75        0.457317                henry-westons-vintage-cider-4x500ml  \n",
       "26     3.03        0.757500              kopparberg-strawberry---lime-10x330ml  \n",
       "27     2.97        0.594000                          kronenbourg-1664-15x275ml  \n",
       "28     1.51        0.302000  kronenbourg-1664-premium-beer-15-x-440ml-79613...  \n",
       "29     2.88        0.612766                london-pride-bitter-bottle-x4-500ml  \n",
       "31     3.00        0.526316                  marstons-old-empire-ale-ipa-500ml  \n",
       "32     3.09        0.657447                          newcastle-brown-ale-550ml  \n",
       "33     2.50        0.500000                       old-speckled-hen-ale-4x500ml  \n",
       "34     3.03        0.606000                                    peroni-18x330ml  \n",
       "35     4.17        0.834000                      peroni-nastro-azzuro-12x330ml  \n",
       "36     3.23        0.646000                        peroni-nastro-azzurro-620ml  \n",
       "37     4.92        0.984000                peroni-nastro-azzurro-lager-4x330ml  \n",
       "38     2.78        0.556000                                san-miguel-12x330ml  \n",
       "39     2.70        0.540000                                 san-miguel-4x440ml  \n",
       "40     2.73        0.546000                             san-miguel-lager-660ml  \n",
       "41     3.30        0.767442                    sharps-doom-bar-amber-ale-500ml  \n",
       "42     2.70        0.600000          shepherd-neame-spitfire-kentish-ale-500ml  \n",
       "43     3.20        0.581818                        st-austell-proper-job-500ml  \n",
       "44     3.30        0.785714                       st-austell-tribute-ale-500ml  \n",
       "45     2.78        0.556000                               staropramen-12x330ml  \n",
       "46     2.53        0.550000                              stella-artois-4x568ml  \n",
       "47     1.77        0.368750     stella-artois-premium-lager-beer-cans-18x440ml  \n",
       "48     1.64        0.364444                  strongbow-original-cider-18x440ml  \n",
       "49     3.27        0.817500                     thatchers-cloudy-lemon-4x440ml  \n",
       "50     1.82        0.404444      thatchers-haze-cloudy-somerset-cider-10x440ml  \n",
       "51     3.60        0.642857                   theakston-old-peculier-ale-500ml  \n",
       "52     3.00        0.731707               thwaites-wainwright-golden-ale-500ml  \n",
       "53     3.60        0.878049                  timothy-taylor-landlord-ale-500ml  \n",
       "54     2.98        0.573077          wychwood-hobgoblin-extra-strong-ale-500ml  \n",
       "55     2.98        0.662222                      wychwood-hobgoblin-gold-500ml  "
      ]
     },
     "execution_count": 17,
     "metadata": {},
     "output_type": "execute_result"
    }
   ],
   "source": [
    "df"
   ]
  },
  {
   "cell_type": "code",
   "execution_count": 30,
   "metadata": {},
   "outputs": [
    {
     "data": {
      "application/vnd.plotly.v1+json": {
       "config": {
        "plotlyServerURL": "https://plot.ly"
       },
       "data": [
        {
         "customdata": [
          [
           "badger-fursty-ferret-ale-500ml"
          ],
          [
           "birra-moretti-12x330ml"
          ],
          [
           "birra-moretti-lager-4x330ml"
          ],
          [
           "birra-moretti-lager-660ml"
          ],
          [
           "birra-moretti-lager-beer-bottle-18x330ml"
          ],
          [
           "bishops-finger-ale-500ml"
          ],
          [
           "black-sheep-ale--bottle-500ml"
          ],
          [
           "brewdog-punk-india-pale-ale-ipa-4x330ml"
          ],
          [
           "budweiser-18x440ml"
          ],
          [
           "budweiser-lager-beer-bottles-20x300ml"
          ],
          [
           "carling-lager-18x440ml"
          ],
          [
           "coors-light-15-x-330ml"
          ],
          [
           "corona-18x330ml"
          ],
          [
           "corona-extra-12x330ml"
          ],
          [
           "corona-lager-beer-cans-6x330ml"
          ],
          [
           "crabbies-original-ginger-beer-500ml"
          ],
          [
           "erdinger-weissbier-wheat-beer-bottle-500ml"
          ],
          [
           "estrella-damm-12x330ml"
          ],
          [
           "fosters-lager-18x440ml"
          ],
          [
           "greene-king-abbot-ale-4x500ml"
          ],
          [
           "guinness-draught-stout-10x440ml"
          ],
          [
           "guinness-draught-stout-4x440ml"
          ],
          [
           "guinness-original-stout-500ml"
          ],
          [
           "heineken-12x330ml"
          ],
          [
           "heineken-silver-beer-lager-bottles-12x330ml"
          ],
          [
           "henry-westons-vintage-cider-4x500ml"
          ],
          [
           "kopparberg-strawberry---lime-10x330ml"
          ],
          [
           "kronenbourg-1664-15x275ml"
          ],
          [
           "kronenbourg-1664-premium-beer-15-x-440ml-7961376-p"
          ],
          [
           "london-pride-bitter-bottle-x4-500ml"
          ],
          [
           "marstons-old-empire-ale-ipa-500ml"
          ],
          [
           "newcastle-brown-ale-550ml"
          ],
          [
           "old-speckled-hen-ale-4x500ml"
          ],
          [
           "peroni-18x330ml"
          ],
          [
           "peroni-nastro-azzuro-12x330ml"
          ],
          [
           "peroni-nastro-azzurro-620ml"
          ],
          [
           "peroni-nastro-azzurro-lager-4x330ml"
          ],
          [
           "san-miguel-12x330ml"
          ],
          [
           "san-miguel-4x440ml"
          ],
          [
           "san-miguel-lager-660ml"
          ],
          [
           "sharps-doom-bar-amber-ale-500ml"
          ],
          [
           "shepherd-neame-spitfire-kentish-ale-500ml"
          ],
          [
           "st-austell-proper-job-500ml"
          ],
          [
           "st-austell-tribute-ale-500ml"
          ],
          [
           "staropramen-12x330ml"
          ],
          [
           "stella-artois-4x568ml"
          ],
          [
           "stella-artois-premium-lager-beer-cans-18x440ml"
          ],
          [
           "strongbow-original-cider-18x440ml"
          ],
          [
           "thatchers-cloudy-lemon-4x440ml"
          ],
          [
           "thatchers-haze-cloudy-somerset-cider-10x440ml"
          ],
          [
           "theakston-old-peculier-ale-500ml"
          ],
          [
           "thwaites-wainwright-golden-ale-500ml"
          ],
          [
           "timothy-taylor-landlord-ale-500ml"
          ],
          [
           "wychwood-hobgoblin-extra-strong-ale-500ml"
          ],
          [
           "wychwood-hobgoblin-gold-500ml"
          ]
         ],
         "hovertemplate": "Price per Unit of Alcohol (£)=%{x}<br>Alcohol Volume (%)=%{y}<br>beer_name=%{customdata[0]}<br>Price per Litre (£)=%{marker.color}<extra></extra>",
         "legendgroup": "",
         "marker": {
          "color": [
           3.3,
           3.79,
           3.98,
           2.88,
           2.86,
           2.6,
           3,
           4.17,
           1.77,
           1.83,
           1.39,
           2.42,
           3.03,
           2.78,
           2.52,
           3.4,
           3.4,
           3.03,
           1.51,
           2.63,
           3.07,
           2.7,
           3.6,
           2.27,
           3.16,
           3.75,
           3.03,
           2.97,
           1.51,
           2.88,
           3,
           3.09,
           2.5,
           3.03,
           4.17,
           3.23,
           4.92,
           2.78,
           2.7,
           2.73,
           3.3,
           2.7,
           3.2,
           3.3,
           2.78,
           2.53,
           1.77,
           1.64,
           3.27,
           1.82,
           3.6,
           3,
           3.6,
           2.98,
           2.98
          ],
          "coloraxis": "coloraxis",
          "size": 10,
          "symbol": "circle"
         },
         "mode": "markers",
         "name": "",
         "orientation": "v",
         "showlegend": false,
         "type": "scatter",
         "x": [
          0.7499999999999999,
          0.8239130434782609,
          0.8652173913043479,
          0.6260869565217392,
          0.6217391304347827,
          0.4814814814814814,
          0.6818181818181818,
          0.7722222222222221,
          0.3933333333333333,
          0.4066666666666667,
          0.3475,
          0.605,
          0.6733333333333333,
          0.6177777777777778,
          0.56,
          0.85,
          0.6415094339622641,
          0.658695652173913,
          0.3775,
          0.526,
          0.7675,
          0.675,
          0.8571428571428571,
          0.454,
          0.79,
          0.4573170731707317,
          0.7575,
          0.5940000000000001,
          0.302,
          0.6127659574468085,
          0.5263157894736842,
          0.6574468085106382,
          0.5,
          0.606,
          0.834,
          0.646,
          0.984,
          0.5559999999999999,
          0.54,
          0.546,
          0.7674418604651163,
          0.6000000000000001,
          0.5818181818181819,
          0.7857142857142856,
          0.5559999999999999,
          0.55,
          0.36875,
          0.3644444444444444,
          0.8175,
          0.4044444444444444,
          0.6428571428571429,
          0.7317073170731708,
          0.878048780487805,
          0.573076923076923,
          0.6622222222222223
         ],
         "xaxis": "x",
         "y": [
          4.4,
          4.6,
          4.6,
          4.6,
          4.6,
          5.4,
          4.4,
          5.4,
          4.5,
          4.5,
          4,
          4,
          4.5,
          4.5,
          4.5,
          4,
          5.3,
          4.6,
          4,
          5,
          4,
          4,
          4.2,
          5,
          4,
          8.2,
          4,
          5,
          5,
          4.7,
          5.7,
          4.7,
          5,
          5,
          5,
          5,
          5,
          5,
          5,
          5,
          4.3,
          4.5,
          5.5,
          4.2,
          5,
          4.6,
          4.8,
          4.5,
          4,
          4.5,
          5.6,
          4.1,
          4.1,
          5.2,
          4.5
         ],
         "yaxis": "y"
        }
       ],
       "layout": {
        "coloraxis": {
         "colorbar": {
          "title": {
           "text": "Price per Litre (£)"
          }
         },
         "colorscale": [
          [
           0,
           "#440154"
          ],
          [
           0.1111111111111111,
           "#482878"
          ],
          [
           0.2222222222222222,
           "#3e4989"
          ],
          [
           0.3333333333333333,
           "#31688e"
          ],
          [
           0.4444444444444444,
           "#26828e"
          ],
          [
           0.5555555555555556,
           "#1f9e89"
          ],
          [
           0.6666666666666666,
           "#35b779"
          ],
          [
           0.7777777777777778,
           "#6ece58"
          ],
          [
           0.8888888888888888,
           "#b5de2b"
          ],
          [
           1,
           "#fde725"
          ]
         ]
        },
        "legend": {
         "tracegroupgap": 0
        },
        "template": {
         "data": {
          "bar": [
           {
            "error_x": {
             "color": "#f2f5fa"
            },
            "error_y": {
             "color": "#f2f5fa"
            },
            "marker": {
             "line": {
              "color": "rgb(17,17,17)",
              "width": 0.5
             },
             "pattern": {
              "fillmode": "overlay",
              "size": 10,
              "solidity": 0.2
             }
            },
            "type": "bar"
           }
          ],
          "barpolar": [
           {
            "marker": {
             "line": {
              "color": "rgb(17,17,17)",
              "width": 0.5
             },
             "pattern": {
              "fillmode": "overlay",
              "size": 10,
              "solidity": 0.2
             }
            },
            "type": "barpolar"
           }
          ],
          "carpet": [
           {
            "aaxis": {
             "endlinecolor": "#A2B1C6",
             "gridcolor": "#506784",
             "linecolor": "#506784",
             "minorgridcolor": "#506784",
             "startlinecolor": "#A2B1C6"
            },
            "baxis": {
             "endlinecolor": "#A2B1C6",
             "gridcolor": "#506784",
             "linecolor": "#506784",
             "minorgridcolor": "#506784",
             "startlinecolor": "#A2B1C6"
            },
            "type": "carpet"
           }
          ],
          "choropleth": [
           {
            "colorbar": {
             "outlinewidth": 0,
             "ticks": ""
            },
            "type": "choropleth"
           }
          ],
          "contour": [
           {
            "colorbar": {
             "outlinewidth": 0,
             "ticks": ""
            },
            "colorscale": [
             [
              0,
              "#0d0887"
             ],
             [
              0.1111111111111111,
              "#46039f"
             ],
             [
              0.2222222222222222,
              "#7201a8"
             ],
             [
              0.3333333333333333,
              "#9c179e"
             ],
             [
              0.4444444444444444,
              "#bd3786"
             ],
             [
              0.5555555555555556,
              "#d8576b"
             ],
             [
              0.6666666666666666,
              "#ed7953"
             ],
             [
              0.7777777777777778,
              "#fb9f3a"
             ],
             [
              0.8888888888888888,
              "#fdca26"
             ],
             [
              1,
              "#f0f921"
             ]
            ],
            "type": "contour"
           }
          ],
          "contourcarpet": [
           {
            "colorbar": {
             "outlinewidth": 0,
             "ticks": ""
            },
            "type": "contourcarpet"
           }
          ],
          "heatmap": [
           {
            "colorbar": {
             "outlinewidth": 0,
             "ticks": ""
            },
            "colorscale": [
             [
              0,
              "#0d0887"
             ],
             [
              0.1111111111111111,
              "#46039f"
             ],
             [
              0.2222222222222222,
              "#7201a8"
             ],
             [
              0.3333333333333333,
              "#9c179e"
             ],
             [
              0.4444444444444444,
              "#bd3786"
             ],
             [
              0.5555555555555556,
              "#d8576b"
             ],
             [
              0.6666666666666666,
              "#ed7953"
             ],
             [
              0.7777777777777778,
              "#fb9f3a"
             ],
             [
              0.8888888888888888,
              "#fdca26"
             ],
             [
              1,
              "#f0f921"
             ]
            ],
            "type": "heatmap"
           }
          ],
          "heatmapgl": [
           {
            "colorbar": {
             "outlinewidth": 0,
             "ticks": ""
            },
            "colorscale": [
             [
              0,
              "#0d0887"
             ],
             [
              0.1111111111111111,
              "#46039f"
             ],
             [
              0.2222222222222222,
              "#7201a8"
             ],
             [
              0.3333333333333333,
              "#9c179e"
             ],
             [
              0.4444444444444444,
              "#bd3786"
             ],
             [
              0.5555555555555556,
              "#d8576b"
             ],
             [
              0.6666666666666666,
              "#ed7953"
             ],
             [
              0.7777777777777778,
              "#fb9f3a"
             ],
             [
              0.8888888888888888,
              "#fdca26"
             ],
             [
              1,
              "#f0f921"
             ]
            ],
            "type": "heatmapgl"
           }
          ],
          "histogram": [
           {
            "marker": {
             "pattern": {
              "fillmode": "overlay",
              "size": 10,
              "solidity": 0.2
             }
            },
            "type": "histogram"
           }
          ],
          "histogram2d": [
           {
            "colorbar": {
             "outlinewidth": 0,
             "ticks": ""
            },
            "colorscale": [
             [
              0,
              "#0d0887"
             ],
             [
              0.1111111111111111,
              "#46039f"
             ],
             [
              0.2222222222222222,
              "#7201a8"
             ],
             [
              0.3333333333333333,
              "#9c179e"
             ],
             [
              0.4444444444444444,
              "#bd3786"
             ],
             [
              0.5555555555555556,
              "#d8576b"
             ],
             [
              0.6666666666666666,
              "#ed7953"
             ],
             [
              0.7777777777777778,
              "#fb9f3a"
             ],
             [
              0.8888888888888888,
              "#fdca26"
             ],
             [
              1,
              "#f0f921"
             ]
            ],
            "type": "histogram2d"
           }
          ],
          "histogram2dcontour": [
           {
            "colorbar": {
             "outlinewidth": 0,
             "ticks": ""
            },
            "colorscale": [
             [
              0,
              "#0d0887"
             ],
             [
              0.1111111111111111,
              "#46039f"
             ],
             [
              0.2222222222222222,
              "#7201a8"
             ],
             [
              0.3333333333333333,
              "#9c179e"
             ],
             [
              0.4444444444444444,
              "#bd3786"
             ],
             [
              0.5555555555555556,
              "#d8576b"
             ],
             [
              0.6666666666666666,
              "#ed7953"
             ],
             [
              0.7777777777777778,
              "#fb9f3a"
             ],
             [
              0.8888888888888888,
              "#fdca26"
             ],
             [
              1,
              "#f0f921"
             ]
            ],
            "type": "histogram2dcontour"
           }
          ],
          "mesh3d": [
           {
            "colorbar": {
             "outlinewidth": 0,
             "ticks": ""
            },
            "type": "mesh3d"
           }
          ],
          "parcoords": [
           {
            "line": {
             "colorbar": {
              "outlinewidth": 0,
              "ticks": ""
             }
            },
            "type": "parcoords"
           }
          ],
          "pie": [
           {
            "automargin": true,
            "type": "pie"
           }
          ],
          "scatter": [
           {
            "marker": {
             "line": {
              "color": "#283442"
             }
            },
            "type": "scatter"
           }
          ],
          "scatter3d": [
           {
            "line": {
             "colorbar": {
              "outlinewidth": 0,
              "ticks": ""
             }
            },
            "marker": {
             "colorbar": {
              "outlinewidth": 0,
              "ticks": ""
             }
            },
            "type": "scatter3d"
           }
          ],
          "scattercarpet": [
           {
            "marker": {
             "colorbar": {
              "outlinewidth": 0,
              "ticks": ""
             }
            },
            "type": "scattercarpet"
           }
          ],
          "scattergeo": [
           {
            "marker": {
             "colorbar": {
              "outlinewidth": 0,
              "ticks": ""
             }
            },
            "type": "scattergeo"
           }
          ],
          "scattergl": [
           {
            "marker": {
             "line": {
              "color": "#283442"
             }
            },
            "type": "scattergl"
           }
          ],
          "scattermapbox": [
           {
            "marker": {
             "colorbar": {
              "outlinewidth": 0,
              "ticks": ""
             }
            },
            "type": "scattermapbox"
           }
          ],
          "scatterpolar": [
           {
            "marker": {
             "colorbar": {
              "outlinewidth": 0,
              "ticks": ""
             }
            },
            "type": "scatterpolar"
           }
          ],
          "scatterpolargl": [
           {
            "marker": {
             "colorbar": {
              "outlinewidth": 0,
              "ticks": ""
             }
            },
            "type": "scatterpolargl"
           }
          ],
          "scatterternary": [
           {
            "marker": {
             "colorbar": {
              "outlinewidth": 0,
              "ticks": ""
             }
            },
            "type": "scatterternary"
           }
          ],
          "surface": [
           {
            "colorbar": {
             "outlinewidth": 0,
             "ticks": ""
            },
            "colorscale": [
             [
              0,
              "#0d0887"
             ],
             [
              0.1111111111111111,
              "#46039f"
             ],
             [
              0.2222222222222222,
              "#7201a8"
             ],
             [
              0.3333333333333333,
              "#9c179e"
             ],
             [
              0.4444444444444444,
              "#bd3786"
             ],
             [
              0.5555555555555556,
              "#d8576b"
             ],
             [
              0.6666666666666666,
              "#ed7953"
             ],
             [
              0.7777777777777778,
              "#fb9f3a"
             ],
             [
              0.8888888888888888,
              "#fdca26"
             ],
             [
              1,
              "#f0f921"
             ]
            ],
            "type": "surface"
           }
          ],
          "table": [
           {
            "cells": {
             "fill": {
              "color": "#506784"
             },
             "line": {
              "color": "rgb(17,17,17)"
             }
            },
            "header": {
             "fill": {
              "color": "#2a3f5f"
             },
             "line": {
              "color": "rgb(17,17,17)"
             }
            },
            "type": "table"
           }
          ]
         },
         "layout": {
          "annotationdefaults": {
           "arrowcolor": "#f2f5fa",
           "arrowhead": 0,
           "arrowwidth": 1
          },
          "autotypenumbers": "strict",
          "coloraxis": {
           "colorbar": {
            "outlinewidth": 0,
            "ticks": ""
           }
          },
          "colorscale": {
           "diverging": [
            [
             0,
             "#8e0152"
            ],
            [
             0.1,
             "#c51b7d"
            ],
            [
             0.2,
             "#de77ae"
            ],
            [
             0.3,
             "#f1b6da"
            ],
            [
             0.4,
             "#fde0ef"
            ],
            [
             0.5,
             "#f7f7f7"
            ],
            [
             0.6,
             "#e6f5d0"
            ],
            [
             0.7,
             "#b8e186"
            ],
            [
             0.8,
             "#7fbc41"
            ],
            [
             0.9,
             "#4d9221"
            ],
            [
             1,
             "#276419"
            ]
           ],
           "sequential": [
            [
             0,
             "#0d0887"
            ],
            [
             0.1111111111111111,
             "#46039f"
            ],
            [
             0.2222222222222222,
             "#7201a8"
            ],
            [
             0.3333333333333333,
             "#9c179e"
            ],
            [
             0.4444444444444444,
             "#bd3786"
            ],
            [
             0.5555555555555556,
             "#d8576b"
            ],
            [
             0.6666666666666666,
             "#ed7953"
            ],
            [
             0.7777777777777778,
             "#fb9f3a"
            ],
            [
             0.8888888888888888,
             "#fdca26"
            ],
            [
             1,
             "#f0f921"
            ]
           ],
           "sequentialminus": [
            [
             0,
             "#0d0887"
            ],
            [
             0.1111111111111111,
             "#46039f"
            ],
            [
             0.2222222222222222,
             "#7201a8"
            ],
            [
             0.3333333333333333,
             "#9c179e"
            ],
            [
             0.4444444444444444,
             "#bd3786"
            ],
            [
             0.5555555555555556,
             "#d8576b"
            ],
            [
             0.6666666666666666,
             "#ed7953"
            ],
            [
             0.7777777777777778,
             "#fb9f3a"
            ],
            [
             0.8888888888888888,
             "#fdca26"
            ],
            [
             1,
             "#f0f921"
            ]
           ]
          },
          "colorway": [
           "#636efa",
           "#EF553B",
           "#00cc96",
           "#ab63fa",
           "#FFA15A",
           "#19d3f3",
           "#FF6692",
           "#B6E880",
           "#FF97FF",
           "#FECB52"
          ],
          "font": {
           "color": "#f2f5fa"
          },
          "geo": {
           "bgcolor": "rgb(17,17,17)",
           "lakecolor": "rgb(17,17,17)",
           "landcolor": "rgb(17,17,17)",
           "showlakes": true,
           "showland": true,
           "subunitcolor": "#506784"
          },
          "hoverlabel": {
           "align": "left"
          },
          "hovermode": "closest",
          "mapbox": {
           "style": "dark"
          },
          "paper_bgcolor": "rgb(17,17,17)",
          "plot_bgcolor": "rgb(17,17,17)",
          "polar": {
           "angularaxis": {
            "gridcolor": "#506784",
            "linecolor": "#506784",
            "ticks": ""
           },
           "bgcolor": "rgb(17,17,17)",
           "radialaxis": {
            "gridcolor": "#506784",
            "linecolor": "#506784",
            "ticks": ""
           }
          },
          "scene": {
           "xaxis": {
            "backgroundcolor": "rgb(17,17,17)",
            "gridcolor": "#506784",
            "gridwidth": 2,
            "linecolor": "#506784",
            "showbackground": true,
            "ticks": "",
            "zerolinecolor": "#C8D4E3"
           },
           "yaxis": {
            "backgroundcolor": "rgb(17,17,17)",
            "gridcolor": "#506784",
            "gridwidth": 2,
            "linecolor": "#506784",
            "showbackground": true,
            "ticks": "",
            "zerolinecolor": "#C8D4E3"
           },
           "zaxis": {
            "backgroundcolor": "rgb(17,17,17)",
            "gridcolor": "#506784",
            "gridwidth": 2,
            "linecolor": "#506784",
            "showbackground": true,
            "ticks": "",
            "zerolinecolor": "#C8D4E3"
           }
          },
          "shapedefaults": {
           "line": {
            "color": "#f2f5fa"
           }
          },
          "sliderdefaults": {
           "bgcolor": "#C8D4E3",
           "bordercolor": "rgb(17,17,17)",
           "borderwidth": 1,
           "tickwidth": 0
          },
          "ternary": {
           "aaxis": {
            "gridcolor": "#506784",
            "linecolor": "#506784",
            "ticks": ""
           },
           "baxis": {
            "gridcolor": "#506784",
            "linecolor": "#506784",
            "ticks": ""
           },
           "bgcolor": "rgb(17,17,17)",
           "caxis": {
            "gridcolor": "#506784",
            "linecolor": "#506784",
            "ticks": ""
           }
          },
          "title": {
           "x": 0.05
          },
          "updatemenudefaults": {
           "bgcolor": "#506784",
           "borderwidth": 0
          },
          "xaxis": {
           "automargin": true,
           "gridcolor": "#283442",
           "linecolor": "#506784",
           "ticks": "",
           "title": {
            "standoff": 15
           },
           "zerolinecolor": "#283442",
           "zerolinewidth": 2
          },
          "yaxis": {
           "automargin": true,
           "gridcolor": "#283442",
           "linecolor": "#506784",
           "ticks": "",
           "title": {
            "standoff": 15
           },
           "zerolinecolor": "#283442",
           "zerolinewidth": 2
          }
         }
        },
        "title": {
         "text": "Sainsbury's Beer Price per Unit %Vol Distributions"
        },
        "xaxis": {
         "anchor": "y",
         "domain": [
          0,
          1
         ],
         "title": {
          "text": "Price per Unit of Alcohol (£)"
         }
        },
        "yaxis": {
         "anchor": "x",
         "domain": [
          0,
          1
         ],
         "title": {
          "text": "Alcohol Volume (%)"
         }
        }
       }
      }
     },
     "metadata": {},
     "output_type": "display_data"
    }
   ],
   "source": [
    "import plotly.express as px\n",
    "fig = px.scatter(df, x=\"price_per_unit\", \n",
    "y=\"abv\", \n",
    "hover_data=['beer_name'],\n",
    "labels={\n",
    "                     \"price_per_unit\": \"Price per Unit of Alcohol (£)\",\n",
    "                     \"abv\": \"Alcohol Volume (%)\",\n",
    "                     \"ppl_int\": \"Price per Litre (£)\"\n",
    "                 },\n",
    "color='ppl_int',\n",
    "color_continuous_scale = 'viridis',\n",
    "template='plotly_dark',\n",
    "title=\"Sainsbury's Beer Price per Unit %Vol Distributions\")\n",
    "fig.update_traces(marker_size=10)\n",
    "\n",
    "fig.show()"
   ]
  },
  {
   "cell_type": "code",
   "execution_count": 8,
   "metadata": {},
   "outputs": [
    {
     "data": {
      "text/html": [
       "<div>\n",
       "<style scoped>\n",
       "    .dataframe tbody tr th:only-of-type {\n",
       "        vertical-align: middle;\n",
       "    }\n",
       "\n",
       "    .dataframe tbody tr th {\n",
       "        vertical-align: top;\n",
       "    }\n",
       "\n",
       "    .dataframe thead th {\n",
       "        text-align: right;\n",
       "    }\n",
       "</style>\n",
       "<table border=\"1\" class=\"dataframe\">\n",
       "  <thead>\n",
       "    <tr style=\"text-align: right;\">\n",
       "      <th></th>\n",
       "      <th>beer_name</th>\n",
       "      <th>price_per_unit</th>\n",
       "    </tr>\n",
       "  </thead>\n",
       "  <tbody>\n",
       "    <tr>\n",
       "      <th>0</th>\n",
       "      <td>badger-fursty-ferret-ale-500ml</td>\n",
       "      <td>0.750000</td>\n",
       "    </tr>\n",
       "    <tr>\n",
       "      <th>1</th>\n",
       "      <td>birra-moretti-12x330ml</td>\n",
       "      <td>0.823913</td>\n",
       "    </tr>\n",
       "    <tr>\n",
       "      <th>2</th>\n",
       "      <td>birra-moretti-lager-4x330ml</td>\n",
       "      <td>0.865217</td>\n",
       "    </tr>\n",
       "    <tr>\n",
       "      <th>3</th>\n",
       "      <td>birra-moretti-lager-660ml</td>\n",
       "      <td>0.626087</td>\n",
       "    </tr>\n",
       "    <tr>\n",
       "      <th>4</th>\n",
       "      <td>birra-moretti-lager-beer-bottle-18x330ml</td>\n",
       "      <td>0.621739</td>\n",
       "    </tr>\n",
       "    <tr>\n",
       "      <th>5</th>\n",
       "      <td>bishops-finger-ale-500ml</td>\n",
       "      <td>0.481481</td>\n",
       "    </tr>\n",
       "    <tr>\n",
       "      <th>6</th>\n",
       "      <td>black-sheep-ale--bottle-500ml</td>\n",
       "      <td>0.681818</td>\n",
       "    </tr>\n",
       "    <tr>\n",
       "      <th>7</th>\n",
       "      <td>brewdog-punk-india-pale-ale-ipa-4x330ml</td>\n",
       "      <td>0.772222</td>\n",
       "    </tr>\n",
       "    <tr>\n",
       "      <th>8</th>\n",
       "      <td>budweiser-18x440ml</td>\n",
       "      <td>0.393333</td>\n",
       "    </tr>\n",
       "    <tr>\n",
       "      <th>9</th>\n",
       "      <td>budweiser-lager-beer-bottles-20x300ml</td>\n",
       "      <td>0.406667</td>\n",
       "    </tr>\n",
       "    <tr>\n",
       "      <th>10</th>\n",
       "      <td>carling-lager-18x440ml</td>\n",
       "      <td>0.347500</td>\n",
       "    </tr>\n",
       "    <tr>\n",
       "      <th>11</th>\n",
       "      <td>coors-light-15-x-330ml</td>\n",
       "      <td>0.605000</td>\n",
       "    </tr>\n",
       "    <tr>\n",
       "      <th>12</th>\n",
       "      <td>corona-18x330ml</td>\n",
       "      <td>0.673333</td>\n",
       "    </tr>\n",
       "    <tr>\n",
       "      <th>13</th>\n",
       "      <td>corona-extra-12x330ml</td>\n",
       "      <td>0.617778</td>\n",
       "    </tr>\n",
       "    <tr>\n",
       "      <th>14</th>\n",
       "      <td>corona-lager-beer-cans-6x330ml</td>\n",
       "      <td>0.560000</td>\n",
       "    </tr>\n",
       "    <tr>\n",
       "      <th>15</th>\n",
       "      <td>crabbies-original-ginger-beer-500ml</td>\n",
       "      <td>0.850000</td>\n",
       "    </tr>\n",
       "    <tr>\n",
       "      <th>16</th>\n",
       "      <td>erdinger-weissbier-wheat-beer-bottle-500ml</td>\n",
       "      <td>0.641509</td>\n",
       "    </tr>\n",
       "    <tr>\n",
       "      <th>17</th>\n",
       "      <td>estrella-damm-12x330ml</td>\n",
       "      <td>0.658696</td>\n",
       "    </tr>\n",
       "    <tr>\n",
       "      <th>18</th>\n",
       "      <td>fosters-lager-18x440ml</td>\n",
       "      <td>0.377500</td>\n",
       "    </tr>\n",
       "    <tr>\n",
       "      <th>19</th>\n",
       "      <td>greene-king-abbot-ale-4x500ml</td>\n",
       "      <td>0.526000</td>\n",
       "    </tr>\n",
       "    <tr>\n",
       "      <th>20</th>\n",
       "      <td>guinness-draught-stout-10x440ml</td>\n",
       "      <td>0.767500</td>\n",
       "    </tr>\n",
       "    <tr>\n",
       "      <th>21</th>\n",
       "      <td>guinness-draught-stout-4x440ml</td>\n",
       "      <td>0.675000</td>\n",
       "    </tr>\n",
       "    <tr>\n",
       "      <th>22</th>\n",
       "      <td>guinness-original-stout-500ml</td>\n",
       "      <td>0.857143</td>\n",
       "    </tr>\n",
       "    <tr>\n",
       "      <th>23</th>\n",
       "      <td>heineken-12x330ml</td>\n",
       "      <td>0.454000</td>\n",
       "    </tr>\n",
       "    <tr>\n",
       "      <th>24</th>\n",
       "      <td>heineken-silver-beer-lager-bottles-12x330ml</td>\n",
       "      <td>0.790000</td>\n",
       "    </tr>\n",
       "    <tr>\n",
       "      <th>25</th>\n",
       "      <td>henry-westons-vintage-cider-4x500ml</td>\n",
       "      <td>0.457317</td>\n",
       "    </tr>\n",
       "    <tr>\n",
       "      <th>26</th>\n",
       "      <td>kopparberg-strawberry---lime-10x330ml</td>\n",
       "      <td>0.757500</td>\n",
       "    </tr>\n",
       "    <tr>\n",
       "      <th>27</th>\n",
       "      <td>kronenbourg-1664-15x275ml</td>\n",
       "      <td>0.594000</td>\n",
       "    </tr>\n",
       "    <tr>\n",
       "      <th>28</th>\n",
       "      <td>kronenbourg-1664-premium-beer-15-x-440ml-79613...</td>\n",
       "      <td>0.302000</td>\n",
       "    </tr>\n",
       "    <tr>\n",
       "      <th>29</th>\n",
       "      <td>london-pride-bitter-bottle-x4-500ml</td>\n",
       "      <td>0.612766</td>\n",
       "    </tr>\n",
       "    <tr>\n",
       "      <th>30</th>\n",
       "      <td>lucky-saint-unfiltered-low-alcohol-lager-330ml</td>\n",
       "      <td>9.080000</td>\n",
       "    </tr>\n",
       "    <tr>\n",
       "      <th>31</th>\n",
       "      <td>marstons-old-empire-ale-ipa-500ml</td>\n",
       "      <td>0.526316</td>\n",
       "    </tr>\n",
       "    <tr>\n",
       "      <th>32</th>\n",
       "      <td>newcastle-brown-ale-550ml</td>\n",
       "      <td>0.657447</td>\n",
       "    </tr>\n",
       "    <tr>\n",
       "      <th>33</th>\n",
       "      <td>old-speckled-hen-ale-4x500ml</td>\n",
       "      <td>0.500000</td>\n",
       "    </tr>\n",
       "    <tr>\n",
       "      <th>34</th>\n",
       "      <td>peroni-18x330ml</td>\n",
       "      <td>0.606000</td>\n",
       "    </tr>\n",
       "    <tr>\n",
       "      <th>35</th>\n",
       "      <td>peroni-nastro-azzuro-12x330ml</td>\n",
       "      <td>0.834000</td>\n",
       "    </tr>\n",
       "    <tr>\n",
       "      <th>36</th>\n",
       "      <td>peroni-nastro-azzurro-620ml</td>\n",
       "      <td>0.646000</td>\n",
       "    </tr>\n",
       "    <tr>\n",
       "      <th>37</th>\n",
       "      <td>peroni-nastro-azzurro-lager-4x330ml</td>\n",
       "      <td>0.984000</td>\n",
       "    </tr>\n",
       "    <tr>\n",
       "      <th>38</th>\n",
       "      <td>san-miguel-12x330ml</td>\n",
       "      <td>0.556000</td>\n",
       "    </tr>\n",
       "    <tr>\n",
       "      <th>39</th>\n",
       "      <td>san-miguel-4x440ml</td>\n",
       "      <td>0.540000</td>\n",
       "    </tr>\n",
       "    <tr>\n",
       "      <th>40</th>\n",
       "      <td>san-miguel-lager-660ml</td>\n",
       "      <td>0.546000</td>\n",
       "    </tr>\n",
       "    <tr>\n",
       "      <th>41</th>\n",
       "      <td>sharps-doom-bar-amber-ale-500ml</td>\n",
       "      <td>0.767442</td>\n",
       "    </tr>\n",
       "    <tr>\n",
       "      <th>42</th>\n",
       "      <td>shepherd-neame-spitfire-kentish-ale-500ml</td>\n",
       "      <td>0.600000</td>\n",
       "    </tr>\n",
       "    <tr>\n",
       "      <th>43</th>\n",
       "      <td>st-austell-proper-job-500ml</td>\n",
       "      <td>0.581818</td>\n",
       "    </tr>\n",
       "    <tr>\n",
       "      <th>44</th>\n",
       "      <td>st-austell-tribute-ale-500ml</td>\n",
       "      <td>0.785714</td>\n",
       "    </tr>\n",
       "    <tr>\n",
       "      <th>45</th>\n",
       "      <td>staropramen-12x330ml</td>\n",
       "      <td>0.556000</td>\n",
       "    </tr>\n",
       "    <tr>\n",
       "      <th>46</th>\n",
       "      <td>stella-artois-4x568ml</td>\n",
       "      <td>0.550000</td>\n",
       "    </tr>\n",
       "    <tr>\n",
       "      <th>47</th>\n",
       "      <td>stella-artois-premium-lager-beer-cans-18x440ml</td>\n",
       "      <td>0.368750</td>\n",
       "    </tr>\n",
       "    <tr>\n",
       "      <th>48</th>\n",
       "      <td>strongbow-original-cider-18x440ml</td>\n",
       "      <td>0.364444</td>\n",
       "    </tr>\n",
       "    <tr>\n",
       "      <th>49</th>\n",
       "      <td>thatchers-cloudy-lemon-4x440ml</td>\n",
       "      <td>0.817500</td>\n",
       "    </tr>\n",
       "    <tr>\n",
       "      <th>50</th>\n",
       "      <td>thatchers-haze-cloudy-somerset-cider-10x440ml</td>\n",
       "      <td>0.404444</td>\n",
       "    </tr>\n",
       "    <tr>\n",
       "      <th>51</th>\n",
       "      <td>theakston-old-peculier-ale-500ml</td>\n",
       "      <td>0.642857</td>\n",
       "    </tr>\n",
       "    <tr>\n",
       "      <th>52</th>\n",
       "      <td>thwaites-wainwright-golden-ale-500ml</td>\n",
       "      <td>0.731707</td>\n",
       "    </tr>\n",
       "    <tr>\n",
       "      <th>53</th>\n",
       "      <td>timothy-taylor-landlord-ale-500ml</td>\n",
       "      <td>0.878049</td>\n",
       "    </tr>\n",
       "    <tr>\n",
       "      <th>54</th>\n",
       "      <td>wychwood-hobgoblin-extra-strong-ale-500ml</td>\n",
       "      <td>0.573077</td>\n",
       "    </tr>\n",
       "    <tr>\n",
       "      <th>55</th>\n",
       "      <td>wychwood-hobgoblin-gold-500ml</td>\n",
       "      <td>0.662222</td>\n",
       "    </tr>\n",
       "  </tbody>\n",
       "</table>\n",
       "</div>"
      ],
      "text/plain": [
       "                                            beer_name  price_per_unit\n",
       "0                      badger-fursty-ferret-ale-500ml        0.750000\n",
       "1                              birra-moretti-12x330ml        0.823913\n",
       "2                         birra-moretti-lager-4x330ml        0.865217\n",
       "3                           birra-moretti-lager-660ml        0.626087\n",
       "4            birra-moretti-lager-beer-bottle-18x330ml        0.621739\n",
       "5                            bishops-finger-ale-500ml        0.481481\n",
       "6                       black-sheep-ale--bottle-500ml        0.681818\n",
       "7             brewdog-punk-india-pale-ale-ipa-4x330ml        0.772222\n",
       "8                                  budweiser-18x440ml        0.393333\n",
       "9               budweiser-lager-beer-bottles-20x300ml        0.406667\n",
       "10                             carling-lager-18x440ml        0.347500\n",
       "11                             coors-light-15-x-330ml        0.605000\n",
       "12                                    corona-18x330ml        0.673333\n",
       "13                              corona-extra-12x330ml        0.617778\n",
       "14                     corona-lager-beer-cans-6x330ml        0.560000\n",
       "15                crabbies-original-ginger-beer-500ml        0.850000\n",
       "16         erdinger-weissbier-wheat-beer-bottle-500ml        0.641509\n",
       "17                             estrella-damm-12x330ml        0.658696\n",
       "18                             fosters-lager-18x440ml        0.377500\n",
       "19                      greene-king-abbot-ale-4x500ml        0.526000\n",
       "20                    guinness-draught-stout-10x440ml        0.767500\n",
       "21                     guinness-draught-stout-4x440ml        0.675000\n",
       "22                      guinness-original-stout-500ml        0.857143\n",
       "23                                  heineken-12x330ml        0.454000\n",
       "24        heineken-silver-beer-lager-bottles-12x330ml        0.790000\n",
       "25                henry-westons-vintage-cider-4x500ml        0.457317\n",
       "26              kopparberg-strawberry---lime-10x330ml        0.757500\n",
       "27                          kronenbourg-1664-15x275ml        0.594000\n",
       "28  kronenbourg-1664-premium-beer-15-x-440ml-79613...        0.302000\n",
       "29                london-pride-bitter-bottle-x4-500ml        0.612766\n",
       "30     lucky-saint-unfiltered-low-alcohol-lager-330ml        9.080000\n",
       "31                  marstons-old-empire-ale-ipa-500ml        0.526316\n",
       "32                          newcastle-brown-ale-550ml        0.657447\n",
       "33                       old-speckled-hen-ale-4x500ml        0.500000\n",
       "34                                    peroni-18x330ml        0.606000\n",
       "35                      peroni-nastro-azzuro-12x330ml        0.834000\n",
       "36                        peroni-nastro-azzurro-620ml        0.646000\n",
       "37                peroni-nastro-azzurro-lager-4x330ml        0.984000\n",
       "38                                san-miguel-12x330ml        0.556000\n",
       "39                                 san-miguel-4x440ml        0.540000\n",
       "40                             san-miguel-lager-660ml        0.546000\n",
       "41                    sharps-doom-bar-amber-ale-500ml        0.767442\n",
       "42          shepherd-neame-spitfire-kentish-ale-500ml        0.600000\n",
       "43                        st-austell-proper-job-500ml        0.581818\n",
       "44                       st-austell-tribute-ale-500ml        0.785714\n",
       "45                               staropramen-12x330ml        0.556000\n",
       "46                              stella-artois-4x568ml        0.550000\n",
       "47     stella-artois-premium-lager-beer-cans-18x440ml        0.368750\n",
       "48                  strongbow-original-cider-18x440ml        0.364444\n",
       "49                     thatchers-cloudy-lemon-4x440ml        0.817500\n",
       "50      thatchers-haze-cloudy-somerset-cider-10x440ml        0.404444\n",
       "51                   theakston-old-peculier-ale-500ml        0.642857\n",
       "52               thwaites-wainwright-golden-ale-500ml        0.731707\n",
       "53                  timothy-taylor-landlord-ale-500ml        0.878049\n",
       "54          wychwood-hobgoblin-extra-strong-ale-500ml        0.573077\n",
       "55                      wychwood-hobgoblin-gold-500ml        0.662222"
      ]
     },
     "execution_count": 8,
     "metadata": {},
     "output_type": "execute_result"
    }
   ],
   "source": []
  },
  {
   "cell_type": "code",
   "execution_count": null,
   "metadata": {},
   "outputs": [],
   "source": []
  }
 ],
 "metadata": {
  "kernelspec": {
   "display_name": "Python 3.10.8 64-bit",
   "language": "python",
   "name": "python3"
  },
  "language_info": {
   "codemirror_mode": {
    "name": "ipython",
    "version": 3
   },
   "file_extension": ".py",
   "mimetype": "text/x-python",
   "name": "python",
   "nbconvert_exporter": "python",
   "pygments_lexer": "ipython3",
   "version": "3.10.8"
  },
  "orig_nbformat": 4,
  "vscode": {
   "interpreter": {
    "hash": "aee8b7b246df8f9039afb4144a1f6fd8d2ca17a180786b69acc140d282b71a49"
   }
  }
 },
 "nbformat": 4,
 "nbformat_minor": 2
}
